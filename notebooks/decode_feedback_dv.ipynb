{
 "cells": [
  {
   "cell_type": "code",
   "execution_count": 5,
   "metadata": {},
   "outputs": [
    {
     "name": "stdout",
     "output_type": "stream",
     "text": [
      "The autoreload extension is already loaded. To reload it, use:\n",
      "  %reload_ext autoreload\n"
     ]
    }
   ],
   "source": [
    "# Try to decode which feature was selected per-trial based on firing rates of neurons\n",
    "# experiment with ranges of firing rates around fixation (selection) time\n",
    "\n",
    "%load_ext autoreload\n",
    "%autoreload 2\n",
    "\n",
    "import numpy as np\n",
    "import matplotlib.pyplot as plt\n",
    "import matplotlib\n",
    "import matplotlib.patches as patches\n",
    "\n",
    "import pandas as pd\n",
    "import scipy.stats\n",
    "from lfp_tools import (\n",
    "    general as lfp_general,\n",
    "    startup as lfp_startup,\n",
    "    development as lfp_development,\n",
    "    analysis as lfp_analysis\n",
    ")\n",
    "from spike_tools import (\n",
    "    general as spike_general,\n",
    "    analysis as spike_analysis,\n",
    ")\n",
    "import s3fs\n",
    "import utils.behavioral_utils as behavioral_utils\n",
    "import utils.spike_utils as spike_utils\n",
    "import utils.classifier_utils as classifier_utils\n",
    "import utils.visualization_utils as visualization_utils\n",
    "import utils.io_utils as io_utils\n",
    "from trial_splitters.random_splitter import RandomSplitter\n",
    "from trial_splitters.block_splitter import BlockSplitter\n",
    "from models.model_wrapper import ModelWrapper\n",
    "from models.multinomial_logistic_regressor import MultinomialLogisticRegressor, NormedMultinomialLogisticRegressor\n",
    "from models.multi_layer import MultiLayer\n",
    "\n",
    "from models.trainer import Trainer\n",
    "import pickle\n",
    "\n",
    "from sklearn.cluster import KMeans\n",
    "import plotly.express as px\n",
    "from itertools import accumulate\n",
    "\n",
    "import torch\n",
    "\n",
    "matplotlib.rcParams['figure.dpi'] = 150\n",
    "\n",
    "\n",
    "species = 'nhp'\n",
    "subject = 'SA'\n",
    "exp = 'WCST'\n",
    "session = 20180802  # this is the session for which there are spikes at the moment. \n",
    "pre_interval = 1300\n",
    "post_interval = 2000\n",
    "\n",
    "feature_dims = [\"Color\", \"Shape\", \"Pattern\"]"
   ]
  },
  {
   "cell_type": "code",
   "execution_count": 7,
   "metadata": {},
   "outputs": [],
   "source": [
    "# grab behavioral data, spike data, trial numbers. \n",
    "fs = s3fs.S3FileSystem()\n",
    "behavior_file = spike_general.get_behavior_path(subject, session)\n",
    "behavior_data = pd.read_csv(fs.open(behavior_file))\n",
    "valid_beh = behavior_data[behavior_data.Response.isin([\"Correct\", \"Incorrect\"])]   \n",
    "valid_beh = valid_beh[valid_beh.TrialNumber >= 57]"
   ]
  },
  {
   "cell_type": "code",
   "execution_count": 8,
   "metadata": {},
   "outputs": [],
   "source": [
    "firing_rates = pd.read_pickle(fs.open(f\"l2l.pqz317.scratch/firing_rates_{pre_interval}_fb_{post_interval}_100_bins.pickle\"))\n",
    "firing_rates = firing_rates[firing_rates.TrialNumber >= 57]"
   ]
  },
  {
   "cell_type": "code",
   "execution_count": 11,
   "metadata": {},
   "outputs": [
    {
     "data": {
      "text/plain": [
       "array([  57,   58,   59, ..., 1747, 1748, 1749])"
      ]
     },
     "execution_count": 11,
     "metadata": {},
     "output_type": "execute_result"
    }
   ],
   "source": [
    "valid_beh.TrialNumber.to_numpy()\n"
   ]
  },
  {
   "cell_type": "code",
   "execution_count": 4,
   "metadata": {},
   "outputs": [
    {
     "data": {
      "text/plain": [
       "57      0\n",
       "58      1\n",
       "59      2\n",
       "60      3\n",
       "61      4\n",
       "       ..\n",
       "1745    2\n",
       "1746    3\n",
       "1747    4\n",
       "1748    5\n",
       "1749    6\n",
       "Name: TrialAfterRuleChange, Length: 1692, dtype: int64"
      ]
     },
     "execution_count": 4,
     "metadata": {},
     "output_type": "execute_result"
    }
   ],
   "source": [
    "valid_beh.TrialAfterRuleChange"
   ]
  },
  {
   "cell_type": "code",
   "execution_count": 9,
   "metadata": {},
   "outputs": [
    {
     "data": {
      "text/plain": [
       "<pandas.core.groupby.generic.DataFrameGroupBy object at 0x7f4eec707eb0>"
      ]
     },
     "execution_count": 9,
     "metadata": {},
     "output_type": "execute_result"
    }
   ],
   "source": [
    "valid_beh.groupby([\"TrialAfterRuleChange\"], as_index=False)"
   ]
  },
  {
   "cell_type": "code",
   "execution_count": null,
   "metadata": {},
   "outputs": [],
   "source": [
    "pre_interval = 1300\n",
    "post_interval = 2000\n",
    "\n",
    "models = np.load(fs.open(f\"l2l.pqz317.scratch/fb_models_{pre_interval}_fb_{post_interval}_by_bin_random_split.npy\"), allow_pickle=True)\n",
    "\n",
    "# Look at just time at 0.2s after FB onset, \n",
    "model = models[15, 0]\n",
    "time_bin = 1.5\n",
    "\n",
    "mode = \"SpikeCounts\"\n",
    "inputs = firing_rates.rename(columns={mode: \"Value\"})\n",
    "inputs = inputs[np.isclose(inputs[\"TimeBins\"], time_bin)]\n",
    "\n",
    "x_test = classifier_utils.transform_to_input_data(inputs)\n",
    "device = \"cuda\" if torch.cuda.is_available() else \"cpu\"\n",
    "x_test = torch.Tensor(x_test).to(device)\n",
    "y_test = model.model(x_test)\n",
    "\n",
    "probs = y_test.softmax(dim=1)\n",
    "dv = torch.log(probs[:, 0] / probs[:, 1])\n",
    "np_dv = dv.detach().cpu().numpy()\n",
    "\n",
    "cor_idxs = np.argwhere(cor_inc.to_numpy() == \"Correct\").squeeze()\n",
    "inc_idxs = np.argwhere(cor_inc.to_numpy() == \"Incorrect\").squeeze()"
   ]
  },
  {
   "cell_type": "code",
   "execution_count": null,
   "metadata": {},
   "outputs": [],
   "source": [
    "fig, ax = plt.subplots(figsize=(10, 5))\n",
    "ax.plot(np_dv[:(183 - 57)], label=\"Decision Var\")\n",
    "ax.scatter(cor_idxs, np.ones(len(cor_idxs)) * -5, label=\"True Corrects\")\n",
    "ax.scatter(inc_idxs, np.ones(len(inc_idxs)) * 10, label=\"True Incorrects\")\n",
    "ax.axvline(95 - 57, color=\"gray\", linestyle=\"dotted\")\n",
    "ax.axvline(121 - 57, color=\"gray\", linestyle=\"dotted\")\n",
    "ax.axvline(136 - 57, color=\"gray\", linestyle=\"dotted\")\n",
    "ax.axhline(0, color=\"gray\", linestyle=\"dotted\")\n",
    "ax.legend()"
   ]
  }
 ],
 "metadata": {
  "kernelspec": {
   "display_name": "Python 3.8.10 64-bit",
   "language": "python",
   "name": "python3"
  },
  "language_info": {
   "codemirror_mode": {
    "name": "ipython",
    "version": 3
   },
   "file_extension": ".py",
   "mimetype": "text/x-python",
   "name": "python",
   "nbconvert_exporter": "python",
   "pygments_lexer": "ipython3",
   "version": "3.8.10 (default, Jun 22 2022, 20:18:18) \n[GCC 9.4.0]"
  },
  "orig_nbformat": 4,
  "vscode": {
   "interpreter": {
    "hash": "31f2aee4e71d21fbe5cf8b01ff0e069b9275f58929596ceb00d14d90e3e16cd6"
   }
  }
 },
 "nbformat": 4,
 "nbformat_minor": 2
}
