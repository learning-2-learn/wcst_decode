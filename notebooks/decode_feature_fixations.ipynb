{
 "cells": [
  {
   "cell_type": "code",
   "execution_count": 8,
   "metadata": {},
   "outputs": [
    {
     "name": "stdout",
     "output_type": "stream",
     "text": [
      "The autoreload extension is already loaded. To reload it, use:\n",
      "  %reload_ext autoreload\n"
     ]
    }
   ],
   "source": [
    "%load_ext autoreload\n",
    "%autoreload 2\n",
    "\n",
    "import numpy as np\n",
    "import matplotlib.pyplot as plt\n",
    "import pandas as pd\n",
    "import scipy.stats\n",
    "from lfp_tools import (\n",
    "    general as lfp_general,\n",
    "    startup as lfp_startup,\n",
    "    development as lfp_development,\n",
    "    analysis as lfp_analysis\n",
    ")\n",
    "from spike_tools import (\n",
    "    general as spike_general,\n",
    "    analysis as spike_analysis,\n",
    ")\n",
    "import s3fs\n",
    "import utils.behavioral_utils as behavioral_utils\n",
    "import utils.spike_utils as spike_utils\n",
    "import utils.classifier_utils as classifier_utils\n",
    "import utils.io_utils as io_utils\n",
    "import utils.visualization_utils as visualization_utils\n",
    "from trial_splitters.random_splitter import RandomSplitter\n",
    "from trial_splitters.block_splitter import BlockSplitter\n",
    "from sklearn import svm\n",
    "import matplotlib\n",
    "\n",
    "matplotlib.rcParams['figure.dpi'] = 150\n"
   ]
  },
  {
   "cell_type": "markdown",
   "metadata": {},
   "source": [
    "### Setup, grabbing Fixations from S3\n",
    "- Fixations include fixation start, fixation end. \n",
    "- There may be multiple consecutive fixations for one card, treating those as separate\n",
    "- Will filter out: \n",
    "  - trials that did not result in correct/incorrect feedback\n",
    "  - fixations on the selected item\n"
   ]
  },
  {
   "cell_type": "code",
   "execution_count": 3,
   "metadata": {},
   "outputs": [],
   "source": [
    "species = 'nhp'\n",
    "subject = 'SA'\n",
    "exp = 'WCST'\n",
    "session = 20180802  # this is the session for which there are spikes at the moment. \n",
    "\n",
    "fs = s3fs.S3FileSystem()\n",
    "\n",
    "behavior_file = spike_general.get_behavior_path(subject, session)\n",
    "behavior_data = pd.read_csv(fs.open(behavior_file))\n",
    "valid_beh = behavior_data[behavior_data.Response.isin([\"Correct\", \"Incorrect\"])]\n",
    "trial_numbers = np.unique(valid_beh.TrialNumber)\n",
    "spike_data = spike_general.get_spike_times_by_trial(fs, subject, session, trial=trial_numbers, start_field=\"TrialStart\", end_field=\"TrialEnd\")    "
   ]
  },
  {
   "cell_type": "code",
   "execution_count": 4,
   "metadata": {},
   "outputs": [],
   "source": [
    "raw_fixation_times = io_utils.get_raw_fixation_times(fs, subject, session)\n",
    "fixation_features = behavioral_utils.get_fixation_features(behavior_data, raw_fixation_times)\n",
    "\n",
    "not_chosens = fixation_features.loc[~(fixation_features[\"ItemChosen\"] == fixation_features[\"ItemNumber\"])]\n",
    "valids = not_chosens[not_chosens[\"TrialNumber\"].isin(trial_numbers)]"
   ]
  },
  {
   "cell_type": "markdown",
   "metadata": {},
   "source": [
    "### Plot Distribution of Fixation Durations"
   ]
  },
  {
   "cell_type": "code",
   "execution_count": 5,
   "metadata": {},
   "outputs": [
    {
     "data": {
      "text/plain": [
       "Text(0.5, 0, 'Time Bins (ms)')"
      ]
     },
     "execution_count": 5,
     "metadata": {},
     "output_type": "execute_result"
    },
    {
     "data": {
      "image/png": "[encoded data removed]",
      "text/plain": [
       "<Figure size 432x288 with 1 Axes>"
      ]
     },
     "metadata": {
      "needs_background": "light"
     },
     "output_type": "display_data"
    }
   ],
   "source": [
    "import matplotlib.pyplot as plt\n",
    "bins = np.arange(0, 1100, 100)\n",
    "valid_durations = valids[\"FixationEnd\"] - valids[\"FixationStart\"]\n",
    "plt.hist(valid_durations, bins=bins)\n",
    "plt.title(\"Distribution of Fixation (Excluding Selected Card) Durations\")\n",
    "plt.xlabel(\"Time Bins (ms)\")"
   ]
  },
  {
   "cell_type": "markdown",
   "metadata": {},
   "source": [
    "### Load Firing Rates, Prep Data for Decoding"
   ]
  },
  {
   "cell_type": "code",
   "execution_count": 6,
   "metadata": {},
   "outputs": [],
   "source": [
    "firing_rates = pd.read_pickle(fs.open(\"l2l.pqz317.scratch/firing_rates_300_fixation_500.pickle\"))\n",
    "features = valids[[\"FixationNum\", \"Color\", \"Shape\", \"Pattern\"]]\n",
    "\n",
    "# use a support vector machine model\n",
    "clf = svm.SVC(decision_function_shape='ovo')\n",
    "\n",
    "# Look at Spike Counts instead of Firing Rate\n",
    "mode = \"SpikeCounts\""
   ]
  },
  {
   "cell_type": "markdown",
   "metadata": {},
   "source": [
    "### Loop through Features, decode by 100 ms time windows"
   ]
  },
  {
   "cell_type": "code",
   "execution_count": 9,
   "metadata": {},
   "outputs": [
    {
     "name": "stdout",
     "output_type": "stream",
     "text": [
      "Evaluating for bin 0.0\n",
      "Evaluating for bin 0.1\n",
      "Evaluating for bin 0.2\n",
      "Evaluating for bin 0.30000000000000004\n",
      "Evaluating for bin 0.4\n",
      "Evaluating for bin 0.5\n",
      "Evaluating for bin 0.6000000000000001\n",
      "Evaluating for bin 0.7000000000000001\n",
      "Evaluating for bin 0.0\n"
     ]
    }
   ],
   "source": [
    "feature_dims = [\"Color\", \"Shape\", \"Pattern\"]\n",
    "pre_interval = 300\n",
    "post_interval = 500\n",
    "\n",
    "for feature_dim in feature_dims:\n",
    "    # prep data for classification\n",
    "    # Hack: rename things as trial number to make downstream code work\n",
    "    inputs = firing_rates.rename(columns={mode: \"Value\", \"IntervalID\": \"TrialNumber\"})\n",
    "    labels = features.rename(columns={feature_dim: \"Feature\", \"FixationNum\": \"TrialNumber\"})\n",
    "\n",
    "    random_splitter = RandomSplitter(labels.TrialNumber.unique(), 20, 0.2)\n",
    "\n",
    "    test_accs_by_bin, shuffled_accs, _, _ = classifier_utils.evaluate_classifiers_by_time_bins(\n",
    "        clf, inputs, labels, np.arange(0, 0.8, 0.1), random_splitter\n",
    "    )\n",
    "    np.save(fs.open(f\"l2l.pqz317.scratch/{feature_dim}_accs_{pre_interval}_fixationstart_{post_interval}_by_bin_random_split.npy\", \"wb\"), test_accs_by_bin)\n",
    "    np.save(fs.open(f\"l2l.pqz317.scratch/{feature_dim}_shuffled_accs_{pre_interval}_fixationstart_{post_interval}_by_bin_random_split.npy\", \"wb\"), shuffled_accs)\n",
    "\n",
    "    # generate figures\n",
    "    fig, ax = plt.subplots()\n",
    "    visualization_utils.visualize_accuracy_across_time_bins(\n",
    "        test_accs_by_bin,\n",
    "        pre_interval, post_interval, 100,\n",
    "        ax,\n",
    "        \"Test Acc\"\n",
    "    )\n",
    "    visualization_utils.visualize_accuracy_across_time_bins(\n",
    "        shuffled_accs,\n",
    "        pre_interval, post_interval, 100,\n",
    "        ax,\n",
    "        \"Shufled Acc\"\n",
    "    )\n",
    "    ax.set_xlabel(\"Time Bins (ms)\")\n",
    "    ax.set_ylabel(\"Decoder Accuracy\")\n",
    "    ax.set_title(f\"Decoding {feature_dim} with 100ms Bins of Spiking\")\n",
    "    ax.legend()"
   ]
  },
  {
   "cell_type": "markdown",
   "metadata": {},
   "source": [
    "### Now look at decodability aligned on fixation end"
   ]
  },
  {
   "cell_type": "code",
   "execution_count": 25,
   "metadata": {},
   "outputs": [
    {
     "name": "stdout",
     "output_type": "stream",
     "text": [
      "Evaluating for bin 0.0\n"
     ]
    },
    {
     "ename": "KeyboardInterrupt",
     "evalue": "",
     "output_type": "error",
     "traceback": [
      "\u001b[0;31m---------------------------------------------------------------------------\u001b[0m",
      "\u001b[0;31mKeyboardInterrupt\u001b[0m                         Traceback (most recent call last)",
      "\u001b[1;32m/src/wcst_decode/notebooks/decode_feature_fixations.ipynb Cell 12\u001b[0m in \u001b[0;36m<cell line: 7>\u001b[0;34m()\u001b[0m\n\u001b[1;32m     <a href='vscode-notebook-cell://attached-container%2B7b22636f6e7461696e65724e616d65223a222f776373745f6465636f64652d6e6f7465626f6f6b2d31227d/src/wcst_decode/notebooks/decode_feature_fixations.ipynb#ch0000017vscode-remote?line=10'>11</a>\u001b[0m labels \u001b[39m=\u001b[39m features\u001b[39m.\u001b[39mrename(columns\u001b[39m=\u001b[39m{feature_dim: \u001b[39m\"\u001b[39m\u001b[39mFeature\u001b[39m\u001b[39m\"\u001b[39m, \u001b[39m\"\u001b[39m\u001b[39mFixationNum\u001b[39m\u001b[39m\"\u001b[39m: \u001b[39m\"\u001b[39m\u001b[39mTrialNumber\u001b[39m\u001b[39m\"\u001b[39m})\n\u001b[1;32m     <a href='vscode-notebook-cell://attached-container%2B7b22636f6e7461696e65724e616d65223a222f776373745f6465636f64652d6e6f7465626f6f6b2d31227d/src/wcst_decode/notebooks/decode_feature_fixations.ipynb#ch0000017vscode-remote?line=12'>13</a>\u001b[0m random_splitter \u001b[39m=\u001b[39m RandomSplitter(labels\u001b[39m.\u001b[39mTrialNumber\u001b[39m.\u001b[39munique(), \u001b[39m20\u001b[39m, \u001b[39m0.2\u001b[39m)\n\u001b[0;32m---> <a href='vscode-notebook-cell://attached-container%2B7b22636f6e7461696e65724e616d65223a222f776373745f6465636f64652d6e6f7465626f6f6b2d31227d/src/wcst_decode/notebooks/decode_feature_fixations.ipynb#ch0000017vscode-remote?line=14'>15</a>\u001b[0m test_accs_by_bin, shuffled_accs \u001b[39m=\u001b[39m classifier_utils\u001b[39m.\u001b[39;49mevaluate_classifiers_by_time_bins(\n\u001b[1;32m     <a href='vscode-notebook-cell://attached-container%2B7b22636f6e7461696e65724e616d65223a222f776373745f6465636f64652d6e6f7465626f6f6b2d31227d/src/wcst_decode/notebooks/decode_feature_fixations.ipynb#ch0000017vscode-remote?line=15'>16</a>\u001b[0m     clf, inputs, labels, np\u001b[39m.\u001b[39;49marange(\u001b[39m0\u001b[39;49m, \u001b[39m0.8\u001b[39;49m, \u001b[39m0.1\u001b[39;49m), random_splitter\n\u001b[1;32m     <a href='vscode-notebook-cell://attached-container%2B7b22636f6e7461696e65724e616d65223a222f776373745f6465636f64652d6e6f7465626f6f6b2d31227d/src/wcst_decode/notebooks/decode_feature_fixations.ipynb#ch0000017vscode-remote?line=16'>17</a>\u001b[0m )\n\u001b[1;32m     <a href='vscode-notebook-cell://attached-container%2B7b22636f6e7461696e65724e616d65223a222f776373745f6465636f64652d6e6f7465626f6f6b2d31227d/src/wcst_decode/notebooks/decode_feature_fixations.ipynb#ch0000017vscode-remote?line=17'>18</a>\u001b[0m np\u001b[39m.\u001b[39msave(\u001b[39mf\u001b[39m\u001b[39m\"\u001b[39m\u001b[39m../data/\u001b[39m\u001b[39m{\u001b[39;00mfeature_dim\u001b[39m}\u001b[39;00m\u001b[39m_accs_\u001b[39m\u001b[39m{\u001b[39;00mpre_interval\u001b[39m}\u001b[39;00m\u001b[39m_fixationend_\u001b[39m\u001b[39m{\u001b[39;00mpost_interval\u001b[39m}\u001b[39;00m\u001b[39m_by_bin_random_split.npy\u001b[39m\u001b[39m\"\u001b[39m, test_accs_by_bin)\n\u001b[1;32m     <a href='vscode-notebook-cell://attached-container%2B7b22636f6e7461696e65724e616d65223a222f776373745f6465636f64652d6e6f7465626f6f6b2d31227d/src/wcst_decode/notebooks/decode_feature_fixations.ipynb#ch0000017vscode-remote?line=18'>19</a>\u001b[0m np\u001b[39m.\u001b[39msave(\u001b[39mf\u001b[39m\u001b[39m\"\u001b[39m\u001b[39m../data/\u001b[39m\u001b[39m{\u001b[39;00mfeature_dim\u001b[39m}\u001b[39;00m\u001b[39m_shuffled_accs_\u001b[39m\u001b[39m{\u001b[39;00mpre_interval\u001b[39m}\u001b[39;00m\u001b[39m_fixationend_\u001b[39m\u001b[39m{\u001b[39;00mpost_interval\u001b[39m}\u001b[39;00m\u001b[39m_by_bin_random_split.npy\u001b[39m\u001b[39m\"\u001b[39m, shuffled_accs)\n",
      "File \u001b[0;32m/src/wcst_decode/utils/classifier_utils.py:92\u001b[0m, in \u001b[0;36mevaluate_classifiers_by_time_bins\u001b[0;34m(clf, inputs, labels, time_bins, splitter)\u001b[0m\n\u001b[1;32m     90\u001b[0m \u001b[39m# need isclose because the floats get stored weird\u001b[39;00m\n\u001b[1;32m     91\u001b[0m inputs_for_bin \u001b[39m=\u001b[39m inputs[np\u001b[39m.\u001b[39misclose(inputs[\u001b[39m\"\u001b[39m\u001b[39mTimeBins\u001b[39m\u001b[39m\"\u001b[39m], \u001b[39mbin\u001b[39m)]\n\u001b[0;32m---> 92\u001b[0m train_accs, test_accs, shuffled_accs, models \u001b[39m=\u001b[39m evaluate_classifier(\n\u001b[1;32m     93\u001b[0m     clf, inputs_for_bin, labels, splitter\n\u001b[1;32m     94\u001b[0m )\n\u001b[1;32m     95\u001b[0m test_accs_by_bin[i, :] \u001b[39m=\u001b[39m test_accs\n\u001b[1;32m     96\u001b[0m shuffled_accs_by_bin[i, :] \u001b[39m=\u001b[39m shuffled_accs\n",
      "File \u001b[0;32m/src/wcst_decode/utils/classifier_utils.py:78\u001b[0m, in \u001b[0;36mevaluate_classifier\u001b[0;34m(clf, firing_rates, feature_selections, trial_splitter, seed)\u001b[0m\n\u001b[1;32m     76\u001b[0m y_test_shuffle \u001b[39m=\u001b[39m y_test\n\u001b[1;32m     77\u001b[0m rng\u001b[39m.\u001b[39mshuffle(y_test_shuffle)\n\u001b[0;32m---> 78\u001b[0m shuffled_acc \u001b[39m=\u001b[39m clf\u001b[39m.\u001b[39;49mscore(x_test, y_test_shuffle)\n\u001b[1;32m     79\u001b[0m shuffled_accs\u001b[39m.\u001b[39mappend(shuffled_acc)\n\u001b[1;32m     81\u001b[0m models\u001b[39m.\u001b[39mappend(clf)\n",
      "File \u001b[0;32m/usr/local/lib/python3.10/dist-packages/sklearn/base.py:666\u001b[0m, in \u001b[0;36mClassifierMixin.score\u001b[0;34m(self, X, y, sample_weight)\u001b[0m\n\u001b[1;32m    641\u001b[0m \u001b[39m\"\"\"\u001b[39;00m\n\u001b[1;32m    642\u001b[0m \u001b[39mReturn the mean accuracy on the given test data and labels.\u001b[39;00m\n\u001b[1;32m    643\u001b[0m \n\u001b[0;32m   (...)\u001b[0m\n\u001b[1;32m    662\u001b[0m \u001b[39m    Mean accuracy of ``self.predict(X)`` wrt. `y`.\u001b[39;00m\n\u001b[1;32m    663\u001b[0m \u001b[39m\"\"\"\u001b[39;00m\n\u001b[1;32m    664\u001b[0m \u001b[39mfrom\u001b[39;00m \u001b[39m.\u001b[39;00m\u001b[39mmetrics\u001b[39;00m \u001b[39mimport\u001b[39;00m accuracy_score\n\u001b[0;32m--> 666\u001b[0m \u001b[39mreturn\u001b[39;00m accuracy_score(y, \u001b[39mself\u001b[39;49m\u001b[39m.\u001b[39;49mpredict(X), sample_weight\u001b[39m=\u001b[39msample_weight)\n",
      "File \u001b[0;32m/usr/local/lib/python3.10/dist-packages/sklearn/svm/_base.py:810\u001b[0m, in \u001b[0;36mBaseSVC.predict\u001b[0;34m(self, X)\u001b[0m\n\u001b[1;32m    808\u001b[0m     y \u001b[39m=\u001b[39m np\u001b[39m.\u001b[39margmax(\u001b[39mself\u001b[39m\u001b[39m.\u001b[39mdecision_function(X), axis\u001b[39m=\u001b[39m\u001b[39m1\u001b[39m)\n\u001b[1;32m    809\u001b[0m \u001b[39melse\u001b[39;00m:\n\u001b[0;32m--> 810\u001b[0m     y \u001b[39m=\u001b[39m \u001b[39msuper\u001b[39;49m()\u001b[39m.\u001b[39;49mpredict(X)\n\u001b[1;32m    811\u001b[0m \u001b[39mreturn\u001b[39;00m \u001b[39mself\u001b[39m\u001b[39m.\u001b[39mclasses_\u001b[39m.\u001b[39mtake(np\u001b[39m.\u001b[39masarray(y, dtype\u001b[39m=\u001b[39mnp\u001b[39m.\u001b[39mintp))\n",
      "File \u001b[0;32m/usr/local/lib/python3.10/dist-packages/sklearn/svm/_base.py:435\u001b[0m, in \u001b[0;36mBaseLibSVM.predict\u001b[0;34m(self, X)\u001b[0m\n\u001b[1;32m    433\u001b[0m X \u001b[39m=\u001b[39m \u001b[39mself\u001b[39m\u001b[39m.\u001b[39m_validate_for_predict(X)\n\u001b[1;32m    434\u001b[0m predict \u001b[39m=\u001b[39m \u001b[39mself\u001b[39m\u001b[39m.\u001b[39m_sparse_predict \u001b[39mif\u001b[39;00m \u001b[39mself\u001b[39m\u001b[39m.\u001b[39m_sparse \u001b[39melse\u001b[39;00m \u001b[39mself\u001b[39m\u001b[39m.\u001b[39m_dense_predict\n\u001b[0;32m--> 435\u001b[0m \u001b[39mreturn\u001b[39;00m predict(X)\n",
      "File \u001b[0;32m/usr/local/lib/python3.10/dist-packages/sklearn/svm/_base.py:454\u001b[0m, in \u001b[0;36mBaseLibSVM._dense_predict\u001b[0;34m(self, X)\u001b[0m\n\u001b[1;32m    446\u001b[0m         \u001b[39mraise\u001b[39;00m \u001b[39mValueError\u001b[39;00m(\n\u001b[1;32m    447\u001b[0m             \u001b[39m\"\u001b[39m\u001b[39mX.shape[1] = \u001b[39m\u001b[39m%d\u001b[39;00m\u001b[39m should be equal to \u001b[39m\u001b[39m%d\u001b[39;00m\u001b[39m, \u001b[39m\u001b[39m\"\u001b[39m\n\u001b[1;32m    448\u001b[0m             \u001b[39m\"\u001b[39m\u001b[39mthe number of samples at training time\u001b[39m\u001b[39m\"\u001b[39m\n\u001b[1;32m    449\u001b[0m             \u001b[39m%\u001b[39m (X\u001b[39m.\u001b[39mshape[\u001b[39m1\u001b[39m], \u001b[39mself\u001b[39m\u001b[39m.\u001b[39mshape_fit_[\u001b[39m0\u001b[39m])\n\u001b[1;32m    450\u001b[0m         )\n\u001b[1;32m    452\u001b[0m svm_type \u001b[39m=\u001b[39m LIBSVM_IMPL\u001b[39m.\u001b[39mindex(\u001b[39mself\u001b[39m\u001b[39m.\u001b[39m_impl)\n\u001b[0;32m--> 454\u001b[0m \u001b[39mreturn\u001b[39;00m libsvm\u001b[39m.\u001b[39;49mpredict(\n\u001b[1;32m    455\u001b[0m     X,\n\u001b[1;32m    456\u001b[0m     \u001b[39mself\u001b[39;49m\u001b[39m.\u001b[39;49msupport_,\n\u001b[1;32m    457\u001b[0m     \u001b[39mself\u001b[39;49m\u001b[39m.\u001b[39;49msupport_vectors_,\n\u001b[1;32m    458\u001b[0m     \u001b[39mself\u001b[39;49m\u001b[39m.\u001b[39;49m_n_support,\n\u001b[1;32m    459\u001b[0m     \u001b[39mself\u001b[39;49m\u001b[39m.\u001b[39;49m_dual_coef_,\n\u001b[1;32m    460\u001b[0m     \u001b[39mself\u001b[39;49m\u001b[39m.\u001b[39;49m_intercept_,\n\u001b[1;32m    461\u001b[0m     \u001b[39mself\u001b[39;49m\u001b[39m.\u001b[39;49m_probA,\n\u001b[1;32m    462\u001b[0m     \u001b[39mself\u001b[39;49m\u001b[39m.\u001b[39;49m_probB,\n\u001b[1;32m    463\u001b[0m     svm_type\u001b[39m=\u001b[39;49msvm_type,\n\u001b[1;32m    464\u001b[0m     kernel\u001b[39m=\u001b[39;49mkernel,\n\u001b[1;32m    465\u001b[0m     degree\u001b[39m=\u001b[39;49m\u001b[39mself\u001b[39;49m\u001b[39m.\u001b[39;49mdegree,\n\u001b[1;32m    466\u001b[0m     coef0\u001b[39m=\u001b[39;49m\u001b[39mself\u001b[39;49m\u001b[39m.\u001b[39;49mcoef0,\n\u001b[1;32m    467\u001b[0m     gamma\u001b[39m=\u001b[39;49m\u001b[39mself\u001b[39;49m\u001b[39m.\u001b[39;49m_gamma,\n\u001b[1;32m    468\u001b[0m     cache_size\u001b[39m=\u001b[39;49m\u001b[39mself\u001b[39;49m\u001b[39m.\u001b[39;49mcache_size,\n\u001b[1;32m    469\u001b[0m )\n",
      "\u001b[0;31mKeyboardInterrupt\u001b[0m: "
     ]
    }
   ],
   "source": [
    "firing_rates = pd.read_pickle(fs.open(\"../data/firing_rates_300_fixationend_500.pickle\"))\n",
    "\n",
    "feature_dims = [\"Color\", \"Shape\", \"Pattern\"]\n",
    "pre_interval = 300\n",
    "post_interval = 500\n",
    "\n",
    "for feature_dim in feature_dims:\n",
    "    # prep data for classification\n",
    "    # Hack: rename things as trial number to make downstream code work\n",
    "    inputs = firing_rates.rename(columns={mode: \"Value\", \"IntervalID\": \"TrialNumber\"})\n",
    "    labels = features.rename(columns={feature_dim: \"Feature\", \"FixationNum\": \"TrialNumber\"})\n",
    "\n",
    "    random_splitter = RandomSplitter(labels.TrialNumber.unique(), 20, 0.2)\n",
    "\n",
    "    test_accs_by_bin, shuffled_accs, _, _ = classifier_utils.evaluate_classifiers_by_time_bins(\n",
    "        clf, inputs, labels, np.arange(0, 0.8, 0.1), random_splitter\n",
    "    )\n",
    "    np.save(fs.open(f\"l2l.pqz317.scratch/{feature_dim}_accs_{pre_interval}_fixationend_{post_interval}_by_bin_random_split.npy\", \"wb\"), test_accs_by_bin)\n",
    "    np.save(fs.open(f\"l2l.pqz317.scratch/{feature_dim}_shuffled_accs_{pre_interval}_fixationend_{post_interval}_by_bin_random_split.npy\", \"wb\"), shuffled_accs)\n",
    "\n",
    "    # generate figures\n",
    "    fig, ax = plt.subplots()\n",
    "    visualization_utils.visualize_accuracy_across_time_bins(\n",
    "        test_accs_by_bin,\n",
    "        pre_interval, post_interval, 100,\n",
    "        ax,\n",
    "    )\n",
    "    visualization_utils.visualize_accuracy_across_time_bins(\n",
    "        shuffled_accs,\n",
    "        pre_interval, post_interval, 100,\n",
    "        ax,\n",
    "    )"
   ]
  }
 ],
 "metadata": {
  "kernelspec": {
   "display_name": "Python 3.10.4 64-bit",
   "language": "python",
   "name": "python3"
  },
  "language_info": {
   "codemirror_mode": {
    "name": "ipython",
    "version": 3
   },
   "file_extension": ".py",
   "mimetype": "text/x-python",
   "name": "python",
   "nbconvert_exporter": "python",
   "pygments_lexer": "ipython3",
   "version": "3.8.10"
  },
  "orig_nbformat": 4,
  "vscode": {
   "interpreter": {
    "hash": "31f2aee4e71d21fbe5cf8b01ff0e069b9275f58929596ceb00d14d90e3e16cd6"
   }
  }
 },
 "nbformat": 4,
 "nbformat_minor": 2
}
