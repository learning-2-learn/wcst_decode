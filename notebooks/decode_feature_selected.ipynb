{
 "cells": [
  {
   "cell_type": "code",
   "execution_count": 16,
   "metadata": {},
   "outputs": [
    {
     "name": "stdout",
     "output_type": "stream",
     "text": [
      "The autoreload extension is already loaded. To reload it, use:\n",
      "  %reload_ext autoreload\n"
     ]
    }
   ],
   "source": [
    "# Try to decode which feature was selected per-trial based on firing rates of neurons\n",
    "# experiment with ranges of firing rates around fixation (selection) time\n",
    "\n",
    "%load_ext autoreload\n",
    "%autoreload 2\n",
    "\n",
    "import numpy as np\n",
    "import matplotlib.pyplot as plt\n",
    "import pandas as pd\n",
    "import scipy.stats\n",
    "from lfp_tools import (\n",
    "    general as lfp_general,\n",
    "    startup as lfp_startup,\n",
    "    development as lfp_development,\n",
    "    analysis as lfp_analysis\n",
    ")\n",
    "from spike_tools import (\n",
    "    general as spike_general,\n",
    "    analysis as spike_analysis,\n",
    ")\n",
    "import s3fs\n",
    "import utils.behavioral_utils as behavioral_utils\n",
    "import utils.spike_utils as spike_utils\n",
    "import utils.classifier_utils as classifier_utils\n",
    "import utils.visualization_utils as visualization_utils\n",
    "from trial_splitters.random_splitter import RandomSplitter\n",
    "from trial_splitters.block_splitter import BlockSplitter\n",
    "from sklearn import svm\n",
    "\n",
    "species = 'nhp'\n",
    "subject = 'SA'\n",
    "exp = 'WCST'\n",
    "session = 20180802  # this is the session for which there are spikes at the moment. "
   ]
  },
  {
   "cell_type": "code",
   "execution_count": 22,
   "metadata": {},
   "outputs": [],
   "source": [
    "# grab behavioral data, spike data, trial numbers. \n",
    "\n",
    "fs = s3fs.S3FileSystem()\n",
    "\n",
    "behavior_file = spike_general.get_behavior_path(subject, session)\n",
    "behavior_data = pd.read_csv(fs.open(behavior_file))\n",
    "valid_beh = behavior_data[behavior_data.Response.isin([\"Correct\", \"Incorrect\"])]\n",
    "trial_numbers = np.unique(valid_beh.TrialNumber)\n",
    "spike_data = spike_general.get_spike_times_by_trial(fs, subject, session, trial=trial_numbers, start_field=\"TrialStart\", end_field=\"TrialEnd\")    \n"
   ]
  },
  {
   "cell_type": "code",
   "execution_count": 89,
   "metadata": {},
   "outputs": [
    {
     "name": "stdout",
     "output_type": "stream",
     "text": [
      "1501.0\n",
      "1499.0\n"
     ]
    }
   ],
   "source": [
    "trial_lengths = valid_beh.TrialEnd - valid_beh.TrialStart\n",
    "pre = valid_beh.FeedbackOnset - valid_beh.TrialStart\n",
    "post = valid_beh.TrialEnd - valid_beh.FeedbackOnset\n",
    "print(min(pre))\n",
    "print(min(post))"
   ]
  },
  {
   "cell_type": "code",
   "execution_count": 5,
   "metadata": {},
   "outputs": [],
   "source": [
    "# find \"fixation times\". In this case, 800ms before feedback. \n",
    "pre_interval = 800\n",
    "post_interval = 0\n",
    "intervals = behavioral_utils.get_trial_intervals(valid_beh, \"FeedbackOnset\", pre_interval, post_interval)"
   ]
  },
  {
   "cell_type": "code",
   "execution_count": null,
   "metadata": {},
   "outputs": [],
   "source": [
    "# find the spikes falling in the intervals\n",
    "spike_times = spike_general.get_spike_times(fs, subject, session)\n",
    "spike_by_trial_interval = spike_utils.get_spikes_by_trial_interval(spike_times, intervals)"
   ]
  },
  {
   "cell_type": "code",
   "execution_count": 32,
   "metadata": {},
   "outputs": [],
   "source": [
    "# grab firing rates, spike counts, in 800ms intervals, 100ms bins\n",
    "firing_rates = spike_analysis.firing_rate(spike_by_trial_interval, bins=np.arange(0, 0.9, 0.1), smoothing=1)"
   ]
  },
  {
   "cell_type": "code",
   "execution_count": 88,
   "metadata": {},
   "outputs": [],
   "source": [
    "# grab Shape, Color, Pattern features for each selection\n",
    "selections = behavioral_utils.get_selection_features(valid_beh)"
   ]
  },
  {
   "cell_type": "code",
   "execution_count": 3,
   "metadata": {},
   "outputs": [],
   "source": [
    "# load what's already been computed\n",
    "feature_selections = pd.read_pickle(\"../data/feature_selections.pickle\")\n",
    "firing_rates = pd.read_pickle(\"../data/firing_rates.pickle\")"
   ]
  },
  {
   "cell_type": "code",
   "execution_count": 62,
   "metadata": {},
   "outputs": [],
   "source": [
    "# use a support vector machine model\n",
    "clf = svm.SVC(decision_function_shape='ovo')\n",
    "\n",
    "# Look at Spike Counts instead of Firing Rate\n",
    "mode = \"SpikeCounts\"\n",
    "\n",
    "# Look at 'Pattern' as a dimension\n",
    "feature_dim = \"Pattern\"\n",
    "\n",
    "# prep data for classification\n",
    "inputs = firing_rates.rename(columns={mode: \"Value\"})\n",
    "labels = feature_selections.rename(columns={feature_dim: \"Feature\"})\n"
   ]
  },
  {
   "cell_type": "code",
   "execution_count": 64,
   "metadata": {},
   "outputs": [],
   "source": [
    "# randomly grab trials for train/test, run 20 times, split 80/20\n",
    "random_splitter = RandomSplitter(labels.TrialNumber.unique(), 20, 0.2)\n",
    "train_accs, test_accs, shuffled_accs, models = classifier_utils.evaluate_classifier(clf, inputs, labels, random_splitter)\n",
    "print(f\"Mean Train accuracy: {np.mean(train_accs)}, Test accuracy: {np.mean(test_accs)}, Shuffled accuracy: {np.mean(shuffled_accs)}\")\n"
   ]
  },
  {
   "cell_type": "code",
   "execution_count": null,
   "metadata": {},
   "outputs": [],
   "source": [
    "# split trials into train/test by blocks, always leave one block out for test. \n",
    "block_splitter = BlockSplitter(valid_beh)\n",
    "train_accs, test_accs, shuffled_accs, models = classifier_utils.evaluate_classifier(clf, inputs, labels, block_splitter)"
   ]
  },
  {
   "cell_type": "code",
   "execution_count": null,
   "metadata": {},
   "outputs": [],
   "source": [
    "# look across different time bins, evaluate classifier on each time bin individually\n",
    "time_bins = np.arange(0.0, 0.8, 0.1)\n",
    "for bin in time_bins:\n",
    "    inputs_for_bin = inputs[inputs[\"TimeBins\"] == bin]\n",
    "    train_accs, test_accs, shuffled_accs, models = classifier_utils.evaluate_classifier(clf, inputs_for_bin, labels, random_splitter)\n",
    "    print(f\"Mean Train accuracy: {np.mean(train_accs)}, Test accuracy: {np.mean(test_accs)}, Shuffled accuracy: {np.mean(shuffled_accs)}\")"
   ]
  },
  {
   "cell_type": "code",
   "execution_count": 4,
   "metadata": {},
   "outputs": [],
   "source": [
    "# find \"fixation times\". In this case, 800ms before feedback. \n",
    "pre_interval = 1200\n",
    "post_interval = 800\n",
    "intervals = behavioral_utils.get_trial_intervals(valid_beh, \"FeedbackOnset\", pre_interval, post_interval)"
   ]
  },
  {
   "cell_type": "code",
   "execution_count": 5,
   "metadata": {},
   "outputs": [],
   "source": [
    "# find the spikes falling in the intervals\n",
    "spike_times = spike_general.get_spike_times(fs, subject, session)\n",
    "spike_by_trial_interval = spike_utils.get_spikes_by_trial_interval(spike_times, intervals)"
   ]
  },
  {
   "cell_type": "code",
   "execution_count": 7,
   "metadata": {},
   "outputs": [],
   "source": [
    "spike_by_trial_interval.to_pickle(\"../data/spike_by_trial_interval_1200_fb_800.pickle\")"
   ]
  },
  {
   "cell_type": "code",
   "execution_count": 22,
   "metadata": {},
   "outputs": [],
   "source": [
    "spike_by_trial_interval = pd.read_pickle(\"../data/spike_by_trial_interval_1200_fb_800.pickle\")\n",
    "firing_rates = spike_analysis.firing_rate(spike_by_trial_interval, bins=np.arange(0, 2.1, 0.1), smoothing=1)\n",
    "firing_rates.to_pickle(\"../data/firing_rates_1200_fb_800.pickle\")"
   ]
  },
  {
   "cell_type": "code",
   "execution_count": 2,
   "metadata": {},
   "outputs": [],
   "source": [
    "feature_selections = pd.read_pickle(\"../data/feature_selections.pickle\")\n",
    "firing_rates = pd.read_pickle(\"../data/firing_rates_1200_fb_800.pickle\")"
   ]
  },
  {
   "cell_type": "code",
   "execution_count": 3,
   "metadata": {},
   "outputs": [],
   "source": [
    "# use a support vector machine model\n",
    "clf = svm.SVC(decision_function_shape='ovo')\n",
    "\n",
    "# Look at Spike Counts instead of Firing Rate\n",
    "mode = \"SpikeCounts\"\n",
    "\n",
    "# Look at 'Pattern' as a dimension\n",
    "feature_dim = \"Pattern\"\n",
    "\n",
    "# prep data for classification\n",
    "inputs = firing_rates.rename(columns={mode: \"Value\"})\n",
    "labels = feature_selections.rename(columns={feature_dim: \"Feature\"})"
   ]
  },
  {
   "cell_type": "code",
   "execution_count": 7,
   "metadata": {},
   "outputs": [
    {
     "data": {
      "text/plain": [
       "TrialNumber    1750.0\n",
       "UnitID           58.0\n",
       "TimeBins          1.9\n",
       "Value             0.0\n",
       "FiringRate        0.0\n",
       "Name: 2063819, dtype: float64"
      ]
     },
     "execution_count": 7,
     "metadata": {},
     "output_type": "execute_result"
    }
   ],
   "source": [
    "inputs.iloc[2063819]\n"
   ]
  },
  {
   "cell_type": "code",
   "execution_count": 11,
   "metadata": {},
   "outputs": [
    {
     "data": {
      "text/html": [
       "<div>\n",
       "<style scoped>\n",
       "    .dataframe tbody tr th:only-of-type {\n",
       "        vertical-align: middle;\n",
       "    }\n",
       "\n",
       "    .dataframe tbody tr th {\n",
       "        vertical-align: top;\n",
       "    }\n",
       "\n",
       "    .dataframe thead th {\n",
       "        text-align: right;\n",
       "    }\n",
       "</style>\n",
       "<table border=\"1\" class=\"dataframe\">\n",
       "  <thead>\n",
       "    <tr style=\"text-align: right;\">\n",
       "      <th></th>\n",
       "      <th>TrialNumber</th>\n",
       "      <th>UnitID</th>\n",
       "      <th>TimeBins</th>\n",
       "      <th>Value</th>\n",
       "      <th>FiringRate</th>\n",
       "    </tr>\n",
       "  </thead>\n",
       "  <tbody>\n",
       "    <tr>\n",
       "      <th>13</th>\n",
       "      <td>1.0</td>\n",
       "      <td>0</td>\n",
       "      <td>1.3</td>\n",
       "      <td>5.0</td>\n",
       "      <td>4.209710</td>\n",
       "    </tr>\n",
       "    <tr>\n",
       "      <th>33</th>\n",
       "      <td>1.0</td>\n",
       "      <td>1</td>\n",
       "      <td>1.3</td>\n",
       "      <td>1.0</td>\n",
       "      <td>0.407807</td>\n",
       "    </tr>\n",
       "    <tr>\n",
       "      <th>53</th>\n",
       "      <td>1.0</td>\n",
       "      <td>2</td>\n",
       "      <td>1.3</td>\n",
       "      <td>0.0</td>\n",
       "      <td>0.368216</td>\n",
       "    </tr>\n",
       "    <tr>\n",
       "      <th>73</th>\n",
       "      <td>1.0</td>\n",
       "      <td>3</td>\n",
       "      <td>1.3</td>\n",
       "      <td>0.0</td>\n",
       "      <td>0.058423</td>\n",
       "    </tr>\n",
       "    <tr>\n",
       "      <th>93</th>\n",
       "      <td>1.0</td>\n",
       "      <td>4</td>\n",
       "      <td>1.3</td>\n",
       "      <td>1.0</td>\n",
       "      <td>1.304960</td>\n",
       "    </tr>\n",
       "    <tr>\n",
       "      <th>...</th>\n",
       "      <td>...</td>\n",
       "      <td>...</td>\n",
       "      <td>...</td>\n",
       "      <td>...</td>\n",
       "      <td>...</td>\n",
       "    </tr>\n",
       "    <tr>\n",
       "      <th>2063733</th>\n",
       "      <td>1750.0</td>\n",
       "      <td>54</td>\n",
       "      <td>1.3</td>\n",
       "      <td>0.0</td>\n",
       "      <td>0.000000</td>\n",
       "    </tr>\n",
       "    <tr>\n",
       "      <th>2063753</th>\n",
       "      <td>1750.0</td>\n",
       "      <td>55</td>\n",
       "      <td>1.3</td>\n",
       "      <td>1.0</td>\n",
       "      <td>0.398943</td>\n",
       "    </tr>\n",
       "    <tr>\n",
       "      <th>2063773</th>\n",
       "      <td>1750.0</td>\n",
       "      <td>56</td>\n",
       "      <td>1.3</td>\n",
       "      <td>0.0</td>\n",
       "      <td>0.000000</td>\n",
       "    </tr>\n",
       "    <tr>\n",
       "      <th>2063793</th>\n",
       "      <td>1750.0</td>\n",
       "      <td>57</td>\n",
       "      <td>1.3</td>\n",
       "      <td>0.0</td>\n",
       "      <td>0.000000</td>\n",
       "    </tr>\n",
       "    <tr>\n",
       "      <th>2063813</th>\n",
       "      <td>1750.0</td>\n",
       "      <td>58</td>\n",
       "      <td>1.3</td>\n",
       "      <td>0.0</td>\n",
       "      <td>0.000000</td>\n",
       "    </tr>\n",
       "  </tbody>\n",
       "</table>\n",
       "<p>103191 rows × 5 columns</p>\n",
       "</div>"
      ],
      "text/plain": [
       "         TrialNumber  UnitID  TimeBins  Value  FiringRate\n",
       "13               1.0       0       1.3    5.0    4.209710\n",
       "33               1.0       1       1.3    1.0    0.407807\n",
       "53               1.0       2       1.3    0.0    0.368216\n",
       "73               1.0       3       1.3    0.0    0.058423\n",
       "93               1.0       4       1.3    1.0    1.304960\n",
       "...              ...     ...       ...    ...         ...\n",
       "2063733       1750.0      54       1.3    0.0    0.000000\n",
       "2063753       1750.0      55       1.3    1.0    0.398943\n",
       "2063773       1750.0      56       1.3    0.0    0.000000\n",
       "2063793       1750.0      57       1.3    0.0    0.000000\n",
       "2063813       1750.0      58       1.3    0.0    0.000000\n",
       "\n",
       "[103191 rows x 5 columns]"
      ]
     },
     "execution_count": 11,
     "metadata": {},
     "output_type": "execute_result"
    }
   ],
   "source": [
    "inputs[inputs[\"TimeBins\"] == 1.3]"
   ]
  },
  {
   "cell_type": "code",
   "execution_count": 23,
   "metadata": {},
   "outputs": [
    {
     "name": "stdout",
     "output_type": "stream",
     "text": [
      "Evaluating for 0.0\n",
      "Evaluating for 0.1\n",
      "Evaluating for 0.2\n",
      "Evaluating for 0.30000000000000004\n",
      "Evaluating for 0.4\n",
      "Evaluating for 0.5\n",
      "Evaluating for 0.6000000000000001\n",
      "Evaluating for 0.7000000000000001\n",
      "Evaluating for 0.8\n",
      "Evaluating for 0.9\n",
      "Evaluating for 1.0\n",
      "Evaluating for 1.1\n",
      "Evaluating for 1.2000000000000002\n",
      "Evaluating for 1.3\n",
      "Evaluating for 1.4000000000000001\n",
      "Evaluating for 1.5\n",
      "Evaluating for 1.6\n",
      "Evaluating for 1.7000000000000002\n",
      "Evaluating for 1.8\n",
      "Evaluating for 1.9000000000000001\n"
     ]
    }
   ],
   "source": [
    "block_splitter = BlockSplitter(valid_beh)\n",
    "test_accs_by_bin, shuffled_accs = classifier_utils.evaluate_classifiers_by_time_bins(\n",
    "    clf, inputs, labels, np.arange(0, 2, 0.1), block_splitter\n",
    ")\n",
    "# test_accs_by_bin = classifier_utils.evaluate_classifiers_by_time_bins(clf, inputs, labels,[1.9], random_splitter)"
   ]
  },
  {
   "cell_type": "code",
   "execution_count": 24,
   "metadata": {},
   "outputs": [],
   "source": [
    "np.save(\"../data/accs_by_bin_block_splitter.npy\", test_accs_by_bin)"
   ]
  },
  {
   "cell_type": "code",
   "execution_count": 33,
   "metadata": {},
   "outputs": [
    {
     "name": "stdout",
     "output_type": "stream",
     "text": [
      "20\n",
      "20\n"
     ]
    },
    {
     "data": {
      "text/plain": [
       "<matplotlib.lines.Line2D at 0x7fa5423c3700>"
      ]
     },
     "execution_count": 33,
     "metadata": {},
     "output_type": "execute_result"
    },
    {
     "data": {
      "image/png": "[encoded data removed]",
      "text/plain": [
       "<Figure size 432x288 with 1 Axes>"
      ]
     },
     "metadata": {
      "needs_background": "light"
     },
     "output_type": "display_data"
    }
   ],
   "source": [
    "from matplotlib import pyplot as plt\n",
    "\n",
    "fig, ax = plt.subplots()\n",
    "visualization_utils.visualize_accuracy_across_time_bins(\n",
    "    test_accs_by_bin,\n",
    "    1200, 800, 100,\n",
    "    ax,\n",
    ")\n",
    "ax.axvline(-800, color='k')"
   ]
  },
  {
   "cell_type": "code",
   "execution_count": 31,
   "metadata": {},
   "outputs": [],
   "source": [
    "test_accs_by_bin = np.load(\"../data/accs_by_bin_random_splitter.npy\")"
   ]
  },
  {
   "cell_type": "code",
   "execution_count": null,
   "metadata": {},
   "outputs": [],
   "source": []
  }
 ],
 "metadata": {
  "kernelspec": {
   "display_name": "Python 3.10.4 64-bit",
   "language": "python",
   "name": "python3"
  },
  "language_info": {
   "codemirror_mode": {
    "name": "ipython",
    "version": 3
   },
   "file_extension": ".py",
   "mimetype": "text/x-python",
   "name": "python",
   "nbconvert_exporter": "python",
   "pygments_lexer": "ipython3",
   "version": "3.10.4"
  },
  "orig_nbformat": 4,
  "vscode": {
   "interpreter": {
    "hash": "31f2aee4e71d21fbe5cf8b01ff0e069b9275f58929596ceb00d14d90e3e16cd6"
   }
  }
 },
 "nbformat": 4,
 "nbformat_minor": 2
}
