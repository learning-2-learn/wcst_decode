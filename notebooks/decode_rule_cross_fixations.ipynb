{
 "cells": [
  {
   "cell_type": "markdown",
   "metadata": {},
   "source": [
    "## Renewed attempt at Decoding Rules\n",
    "Current state of notebook:\n",
    "- Determined that splitting by trial probably isn't the best idea, since using a BlockSplitter would mean the test set has the same label across\n",
    "- What if we split by block to decode? \n",
    "  - Each block would be data point, don't need to worry about capturing time correlation since next block is randomly (?) chosen. \n",
    "  - Can average neural activity across trials to get mean firing rates for per neuron within block\n",
    "  - Train/Test split on blocks\n",
    "  "
   ]
  },
  {
   "cell_type": "code",
   "execution_count": 1,
   "metadata": {},
   "outputs": [],
   "source": [
    "# Try to decode which feature was selected per-trial based on firing rates of neurons\n",
    "# experiment with ranges of firing rates around fixation (selection) time\n",
    "\n",
    "%load_ext autoreload\n",
    "%autoreload 2\n",
    "\n",
    "import numpy as np\n",
    "import matplotlib.pyplot as plt\n",
    "import pandas as pd\n",
    "import scipy.stats\n",
    "from lfp_tools import (\n",
    "    general as lfp_general,\n",
    "    startup as lfp_startup,\n",
    "    development as lfp_development,\n",
    "    analysis as lfp_analysis\n",
    ")\n",
    "from spike_tools import (\n",
    "    general as spike_general,\n",
    "    analysis as spike_analysis,\n",
    ")\n",
    "import s3fs\n",
    "import utils.behavioral_utils as behavioral_utils\n",
    "import utils.spike_utils as spike_utils\n",
    "import utils.classifier_utils as classifier_utils\n",
    "import utils.visualization_utils as visualization_utils\n",
    "from trial_splitters.random_splitter import RandomSplitter\n",
    "from trial_splitters.block_splitter import BlockSplitter\n",
    "from sklearn import svm\n",
    "from sklearn.linear_model import LogisticRegression\n",
    "import pickle\n",
    "\n",
    "\n",
    "species = 'nhp'\n",
    "subject = 'SA'\n",
    "exp = 'WCST'\n",
    "session = 20180802  # this is the session for which there are spikes at the moment. \n",
    "pre_interval = 300\n",
    "post_interval = 500"
   ]
  },
  {
   "cell_type": "code",
   "execution_count": 2,
   "metadata": {},
   "outputs": [],
   "source": [
    "# grab behavioral data, spike data, trial numbers. \n",
    "fs = s3fs.S3FileSystem()\n",
    "behavior_file = spike_general.get_behavior_path(subject, session)\n",
    "behavior_data = pd.read_csv(fs.open(behavior_file))\n",
    "valid_beh = behavior_data[behavior_data.Response.isin([\"Correct\", \"Incorrect\"])]   \n",
    "valid_beh = behavioral_utils.exclude_first_block(valid_beh)"
   ]
  },
  {
   "cell_type": "code",
   "execution_count": 24,
   "metadata": {},
   "outputs": [],
   "source": [
    "num_rules = valid_beh.groupby([\"CurrentRule\"]).apply(lambda x: len(x.BlockNumber.unique()))"
   ]
  },
  {
   "cell_type": "code",
   "execution_count": 25,
   "metadata": {},
   "outputs": [
    {
     "data": {
      "text/plain": [
       "CurrentRule\n",
       "CIRCLE      6\n",
       "CYAN        7\n",
       "ESCHER      1\n",
       "GREEN       6\n",
       "MAGENTA     3\n",
       "POLKADOT    4\n",
       "RIPPLE      4\n",
       "SQUARE      5\n",
       "STAR        2\n",
       "SWIRL       4\n",
       "TRIANGLE    7\n",
       "YELLOW      6\n",
       "dtype: int64"
      ]
     },
     "execution_count": 25,
     "metadata": {},
     "output_type": "execute_result"
    }
   ],
   "source": [
    "num_rules"
   ]
  },
  {
   "cell_type": "code",
   "execution_count": 21,
   "metadata": {},
   "outputs": [
    {
     "data": {
      "text/plain": [
       "array([ 1,  2,  3,  4,  5,  6,  7,  8,  9, 10, 11, 12, 13, 14, 15, 16, 17,\n",
       "       18, 19, 20, 21, 22, 23, 24, 25, 26, 27, 28, 29, 30, 31, 32, 33, 34,\n",
       "       35, 36, 37, 38, 39, 40, 41, 42, 43, 44, 45, 46, 47, 48, 49, 50, 51,\n",
       "       52, 53, 54, 55])"
      ]
     },
     "execution_count": 21,
     "metadata": {},
     "output_type": "execute_result"
    }
   ],
   "source": [
    "valid_beh.BlockNumber.unique()"
   ]
  },
  {
   "cell_type": "code",
   "execution_count": 3,
   "metadata": {},
   "outputs": [],
   "source": [
    "figured_out = behavioral_utils.get_figured_out_trials(valid_beh)\n",
    "not_figured_out = behavioral_utils.get_not_figured_out_trials(valid_beh)"
   ]
  },
  {
   "cell_type": "code",
   "execution_count": 4,
   "metadata": {},
   "outputs": [],
   "source": [
    "rules = valid_beh[[\"TrialNumber\", \"CurrentRule\"]]"
   ]
  },
  {
   "cell_type": "code",
   "execution_count": 5,
   "metadata": {},
   "outputs": [],
   "source": [
    "firing_rates = pd.read_pickle(fs.open(f\"l2l.pqz317.scratch/firing_rates_{pre_interval}_crossfixation_{post_interval}_100_bins.pickle\"))"
   ]
  },
  {
   "cell_type": "code",
   "execution_count": 6,
   "metadata": {},
   "outputs": [],
   "source": [
    "# Look at Spike Counts instead of Firing Rate\n",
    "mode = \"SpikeCounts\"\n",
    "\n",
    "# prep data for classification\n",
    "inputs = firing_rates.rename(columns={mode: \"Value\"})\n",
    "labels = rules.rename(columns={\"CurrentRule\": \"Feature\"})"
   ]
  },
  {
   "cell_type": "code",
   "execution_count": 7,
   "metadata": {},
   "outputs": [],
   "source": [
    "clf = LogisticRegression(max_iter=1000, solver='saga', multi_class='multinomial')\n",
    "splitter = BlockSplitter(valid_beh)"
   ]
  },
  {
   "cell_type": "code",
   "execution_count": 8,
   "metadata": {},
   "outputs": [],
   "source": [
    "figured_inputs = inputs[inputs.TrialNumber.isin(figured_out.TrialNumber)]\n",
    "figured_labels = labels[labels.TrialNumber.isin(figured_out.TrialNumber)]\n",
    "\n",
    "not_figured_inputs = inputs[inputs.TrialNumber.isin(not_figured_out.TrialNumber)]\n",
    "not_figured_labels = labels[labels.TrialNumber.isin(not_figured_out.TrialNumber)]"
   ]
  },
  {
   "cell_type": "code",
   "execution_count": 9,
   "metadata": {},
   "outputs": [
    {
     "name": "stdout",
     "output_type": "stream",
     "text": [
      "275648\n",
      "584\n",
      "546104\n",
      "1157\n"
     ]
    }
   ],
   "source": [
    "print(len(figured_inputs))\n",
    "print(len(figured_labels))\n",
    "print(len(not_figured_inputs))\n",
    "print(len(not_figured_labels))"
   ]
  },
  {
   "cell_type": "code",
   "execution_count": 18,
   "metadata": {},
   "outputs": [
    {
     "name": "stdout",
     "output_type": "stream",
     "text": [
      "Evaluating for bin 0.0\n",
      "Y_PREDICTED===\n",
      "['YELLOW' 'TRIANGLE' 'TRIANGLE' 'TRIANGLE' 'YELLOW' 'YELLOW' 'GREEN'\n",
      " 'YELLOW' 'SWIRL' 'GREEN' 'CIRCLE' 'SWIRL' 'YELLOW' 'CYAN' 'TRIANGLE'\n",
      " 'CYAN' 'TRIANGLE' 'SWIRL' 'YELLOW' 'TRIANGLE']\n",
      "Y_TRUE===\n",
      "['CYAN' 'CYAN' 'CYAN' 'CYAN' 'CYAN' 'CYAN' 'CYAN' 'CYAN' 'CYAN' 'CYAN'\n",
      " 'CYAN' 'CYAN' 'CYAN' 'CYAN' 'CYAN' 'CYAN' 'CYAN' 'CYAN' 'CYAN' 'CYAN']\n",
      "Y_SHUFFLED===\n",
      "['CYAN' 'CYAN' 'CYAN' 'CYAN' 'CYAN' 'CYAN' 'CYAN' 'CYAN' 'CYAN' 'CYAN'\n",
      " 'CYAN' 'CYAN' 'CYAN' 'CYAN' 'CYAN' 'CYAN' 'CYAN' 'CYAN' 'CYAN' 'CYAN']\n",
      "========\n",
      "Y_PREDICTED===\n",
      "['CYAN' 'YELLOW' 'CYAN' 'MAGENTA' 'CYAN' 'CYAN' 'CYAN' 'MAGENTA']\n",
      "Y_TRUE===\n",
      "['CIRCLE' 'CIRCLE' 'CIRCLE' 'CIRCLE' 'CIRCLE' 'CIRCLE' 'CIRCLE' 'CIRCLE']\n",
      "Y_SHUFFLED===\n",
      "['CIRCLE' 'CIRCLE' 'CIRCLE' 'CIRCLE' 'CIRCLE' 'CIRCLE' 'CIRCLE' 'CIRCLE']\n",
      "========\n",
      "Y_PREDICTED===\n",
      "['CYAN' 'CIRCLE' 'CYAN' 'CYAN' 'YELLOW' 'CYAN' 'CYAN' 'SQUARE']\n",
      "Y_TRUE===\n",
      "['TRIANGLE' 'TRIANGLE' 'TRIANGLE' 'TRIANGLE' 'TRIANGLE' 'TRIANGLE'\n",
      " 'TRIANGLE' 'TRIANGLE']\n",
      "Y_SHUFFLED===\n",
      "['TRIANGLE' 'TRIANGLE' 'TRIANGLE' 'TRIANGLE' 'TRIANGLE' 'TRIANGLE'\n",
      " 'TRIANGLE' 'TRIANGLE']\n",
      "========\n",
      "Y_PREDICTED===\n",
      "['TRIANGLE' 'SQUARE' 'POLKADOT' 'YELLOW' 'TRIANGLE' 'CIRCLE' 'TRIANGLE'\n",
      " 'CIRCLE']\n",
      "Y_TRUE===\n",
      "['RIPPLE' 'RIPPLE' 'RIPPLE' 'RIPPLE' 'RIPPLE' 'RIPPLE' 'RIPPLE' 'RIPPLE']\n",
      "Y_SHUFFLED===\n",
      "['RIPPLE' 'RIPPLE' 'RIPPLE' 'RIPPLE' 'RIPPLE' 'RIPPLE' 'RIPPLE' 'RIPPLE']\n",
      "========\n",
      "Y_PREDICTED===\n",
      "['CYAN' 'TRIANGLE' 'YELLOW' 'TRIANGLE' 'POLKADOT' 'CIRCLE' 'POLKADOT'\n",
      " 'TRIANGLE']\n",
      "Y_TRUE===\n",
      "['CYAN' 'CYAN' 'CYAN' 'CYAN' 'CYAN' 'CYAN' 'CYAN' 'CYAN']\n",
      "Y_SHUFFLED===\n",
      "['CYAN' 'CYAN' 'CYAN' 'CYAN' 'CYAN' 'CYAN' 'CYAN' 'CYAN']\n",
      "========\n",
      "Y_PREDICTED===\n",
      "['CIRCLE' 'TRIANGLE' 'YELLOW' 'CIRCLE' 'CYAN' 'TRIANGLE' 'POLKADOT' 'CYAN']\n",
      "Y_TRUE===\n",
      "['GREEN' 'GREEN' 'GREEN' 'GREEN' 'GREEN' 'GREEN' 'GREEN' 'GREEN']\n",
      "Y_SHUFFLED===\n",
      "['GREEN' 'GREEN' 'GREEN' 'GREEN' 'GREEN' 'GREEN' 'GREEN' 'GREEN']\n",
      "========\n",
      "Y_PREDICTED===\n",
      "['TRIANGLE' 'RIPPLE' 'YELLOW' 'TRIANGLE' 'POLKADOT' 'RIPPLE' 'SWIRL'\n",
      " 'POLKADOT']\n",
      "Y_TRUE===\n",
      "['SQUARE' 'SQUARE' 'SQUARE' 'SQUARE' 'SQUARE' 'SQUARE' 'SQUARE' 'SQUARE']\n",
      "Y_SHUFFLED===\n",
      "['SQUARE' 'SQUARE' 'SQUARE' 'SQUARE' 'SQUARE' 'SQUARE' 'SQUARE' 'SQUARE']\n",
      "========\n",
      "Y_PREDICTED===\n",
      "['CYAN' 'CYAN' 'SWIRL' 'MAGENTA' 'CYAN' 'TRIANGLE' 'RIPPLE' 'SQUARE']\n",
      "Y_TRUE===\n",
      "['CIRCLE' 'CIRCLE' 'CIRCLE' 'CIRCLE' 'CIRCLE' 'CIRCLE' 'CIRCLE' 'CIRCLE']\n",
      "Y_SHUFFLED===\n",
      "['CIRCLE' 'CIRCLE' 'CIRCLE' 'CIRCLE' 'CIRCLE' 'CIRCLE' 'CIRCLE' 'CIRCLE']\n",
      "========\n",
      "Y_PREDICTED===\n",
      "['STAR' 'GREEN' 'CIRCLE' 'GREEN' 'POLKADOT' 'GREEN' 'YELLOW' 'YELLOW']\n",
      "Y_TRUE===\n",
      "['SWIRL' 'SWIRL' 'SWIRL' 'SWIRL' 'SWIRL' 'SWIRL' 'SWIRL' 'SWIRL']\n",
      "Y_SHUFFLED===\n",
      "['SWIRL' 'SWIRL' 'SWIRL' 'SWIRL' 'SWIRL' 'SWIRL' 'SWIRL' 'SWIRL']\n",
      "========\n",
      "Y_PREDICTED===\n",
      "['SQUARE' 'GREEN' 'TRIANGLE' 'CYAN' 'TRIANGLE' 'CYAN' 'RIPPLE' 'CYAN']\n",
      "Y_TRUE===\n",
      "['CIRCLE' 'CIRCLE' 'CIRCLE' 'CIRCLE' 'CIRCLE' 'CIRCLE' 'CIRCLE' 'CIRCLE']\n",
      "Y_SHUFFLED===\n",
      "['CIRCLE' 'CIRCLE' 'CIRCLE' 'CIRCLE' 'CIRCLE' 'CIRCLE' 'CIRCLE' 'CIRCLE']\n",
      "========\n",
      "Y_PREDICTED===\n",
      "['RIPPLE' 'CYAN' 'CYAN' 'CYAN' 'GREEN' 'RIPPLE' 'GREEN' 'RIPPLE']\n",
      "Y_TRUE===\n",
      "['TRIANGLE' 'TRIANGLE' 'TRIANGLE' 'TRIANGLE' 'TRIANGLE' 'TRIANGLE'\n",
      " 'TRIANGLE' 'TRIANGLE']\n",
      "Y_SHUFFLED===\n",
      "['TRIANGLE' 'TRIANGLE' 'TRIANGLE' 'TRIANGLE' 'TRIANGLE' 'TRIANGLE'\n",
      " 'TRIANGLE' 'TRIANGLE']\n",
      "========\n",
      "Y_PREDICTED===\n",
      "['CYAN' 'TRIANGLE' 'CYAN' 'YELLOW' 'SQUARE' 'YELLOW' 'YELLOW' 'RIPPLE']\n",
      "Y_TRUE===\n",
      "['POLKADOT' 'POLKADOT' 'POLKADOT' 'POLKADOT' 'POLKADOT' 'POLKADOT'\n",
      " 'POLKADOT' 'POLKADOT']\n",
      "Y_SHUFFLED===\n",
      "['POLKADOT' 'POLKADOT' 'POLKADOT' 'POLKADOT' 'POLKADOT' 'POLKADOT'\n",
      " 'POLKADOT' 'POLKADOT']\n",
      "========\n",
      "Y_PREDICTED===\n",
      "['SWIRL' 'CYAN' 'SWIRL' 'YELLOW' 'CIRCLE' 'YELLOW' 'MAGENTA' 'SQUARE']\n",
      "Y_TRUE===\n",
      "['SQUARE' 'SQUARE' 'SQUARE' 'SQUARE' 'SQUARE' 'SQUARE' 'SQUARE' 'SQUARE']\n",
      "Y_SHUFFLED===\n",
      "['SQUARE' 'SQUARE' 'SQUARE' 'SQUARE' 'SQUARE' 'SQUARE' 'SQUARE' 'SQUARE']\n",
      "========\n"
     ]
    },
    {
     "ename": "KeyboardInterrupt",
     "evalue": "",
     "output_type": "error",
     "traceback": [
      "\u001b[0;31m---------------------------------------------------------------------------\u001b[0m",
      "\u001b[0;31mKeyboardInterrupt\u001b[0m                         Traceback (most recent call last)",
      "\u001b[1;32m/src/wcst_decode/notebooks/decode_rule_cross_fixations.ipynb Cell 10\u001b[0m in \u001b[0;36m<cell line: 1>\u001b[0;34m()\u001b[0m\n\u001b[0;32m----> <a href='vscode-notebook-cell://attached-container%2B7b22636f6e7461696e65724e616d65223a222f776373745f6465636f64652d6e6f7465626f6f6b2d31222c2273657474696e6773223a7b22686f7374223a227373683a2f2f3132382e39352e38312e3439227d7d/src/wcst_decode/notebooks/decode_rule_cross_fixations.ipynb#X12sdnNjb2RlLXJlbW90ZQ%3D%3D?line=0'>1</a>\u001b[0m test_accs_figured, shuffled_accs_figured, models, splits \u001b[39m=\u001b[39m classifier_utils\u001b[39m.\u001b[39;49mevaluate_classifiers_by_time_bins(\n\u001b[1;32m      <a href='vscode-notebook-cell://attached-container%2B7b22636f6e7461696e65724e616d65223a222f776373745f6465636f64652d6e6f7465626f6f6b2d31222c2273657474696e6773223a7b22686f7374223a227373683a2f2f3132382e39352e38312e3439227d7d/src/wcst_decode/notebooks/decode_rule_cross_fixations.ipynb#X12sdnNjb2RlLXJlbW90ZQ%3D%3D?line=1'>2</a>\u001b[0m     clf, figured_inputs, figured_labels, np\u001b[39m.\u001b[39;49marange(\u001b[39m0\u001b[39;49m, \u001b[39m0.8\u001b[39;49m, \u001b[39m0.1\u001b[39;49m), splitter\n\u001b[1;32m      <a href='vscode-notebook-cell://attached-container%2B7b22636f6e7461696e65724e616d65223a222f776373745f6465636f64652d6e6f7465626f6f6b2d31222c2273657474696e6773223a7b22686f7374223a227373683a2f2f3132382e39352e38312e3439227d7d/src/wcst_decode/notebooks/decode_rule_cross_fixations.ipynb#X12sdnNjb2RlLXJlbW90ZQ%3D%3D?line=2'>3</a>\u001b[0m )\n\u001b[1;32m      <a href='vscode-notebook-cell://attached-container%2B7b22636f6e7461696e65724e616d65223a222f776373745f6465636f64652d6e6f7465626f6f6b2d31222c2273657474696e6773223a7b22686f7374223a227373683a2f2f3132382e39352e38312e3439227d7d/src/wcst_decode/notebooks/decode_rule_cross_fixations.ipynb#X12sdnNjb2RlLXJlbW90ZQ%3D%3D?line=3'>4</a>\u001b[0m \u001b[39mprint\u001b[39m(np\u001b[39m.\u001b[39mnanmean(test_accs_figured, axis\u001b[39m=\u001b[39m\u001b[39m1\u001b[39m))\n\u001b[1;32m      <a href='vscode-notebook-cell://attached-container%2B7b22636f6e7461696e65724e616d65223a222f776373745f6465636f64652d6e6f7465626f6f6b2d31222c2273657474696e6773223a7b22686f7374223a227373683a2f2f3132382e39352e38312e3439227d7d/src/wcst_decode/notebooks/decode_rule_cross_fixations.ipynb#X12sdnNjb2RlLXJlbW90ZQ%3D%3D?line=4'>5</a>\u001b[0m \u001b[39mprint\u001b[39m(np\u001b[39m.\u001b[39mnanstd(test_accs_figured, axis\u001b[39m=\u001b[39m\u001b[39m1\u001b[39m))\n",
      "File \u001b[0;32m/src/wcst_decode/utils/classifier_utils.py:128\u001b[0m, in \u001b[0;36mevaluate_classifiers_by_time_bins\u001b[0;34m(clf, inputs, labels, time_bins, splitter)\u001b[0m\n\u001b[1;32m    126\u001b[0m \u001b[39m# need isclose because the floats get stored weird\u001b[39;00m\n\u001b[1;32m    127\u001b[0m inputs_for_bin \u001b[39m=\u001b[39m inputs[np\u001b[39m.\u001b[39misclose(inputs[\u001b[39m\"\u001b[39m\u001b[39mTimeBins\u001b[39m\u001b[39m\"\u001b[39m], \u001b[39mbin\u001b[39m)]\n\u001b[0;32m--> 128\u001b[0m _, test_accs, shuffled_accs, models \u001b[39m=\u001b[39m evaluate_classifier(\n\u001b[1;32m    129\u001b[0m     clf, inputs_for_bin, labels, splits\n\u001b[1;32m    130\u001b[0m )\n\u001b[1;32m    131\u001b[0m \u001b[39mprint\u001b[39m(test_accs)\n\u001b[1;32m    132\u001b[0m \u001b[39mprint\u001b[39m(shuffled_accs)\n",
      "File \u001b[0;32m/src/wcst_decode/utils/classifier_utils.py:69\u001b[0m, in \u001b[0;36mevaluate_classifier\u001b[0;34m(clf, firing_rates, feature_selections, trial_splitter, seed)\u001b[0m\n\u001b[1;32m     67\u001b[0m x_test \u001b[39m=\u001b[39m transform_to_input_data(firing_rates, trials_filter\u001b[39m=\u001b[39mtest_trials)\n\u001b[1;32m     68\u001b[0m y_test \u001b[39m=\u001b[39m transform_to_label_data(feature_selections, trials_filter\u001b[39m=\u001b[39mtest_trials)\n\u001b[0;32m---> 69\u001b[0m clf \u001b[39m=\u001b[39m clf\u001b[39m.\u001b[39;49mfit(x_train, y_train)\n\u001b[1;32m     71\u001b[0m train_acc \u001b[39m=\u001b[39m clf\u001b[39m.\u001b[39mscore(x_train, y_train)\n\u001b[1;32m     73\u001b[0m \u001b[39m# to account for the fact that certain splitters with certain\u001b[39;00m\n\u001b[1;32m     74\u001b[0m \u001b[39m# filters may result in no test data. \u001b[39;00m\n",
      "File \u001b[0;32m/usr/local/lib/python3.8/dist-packages/sklearn/linear_model/_logistic.py:1233\u001b[0m, in \u001b[0;36mLogisticRegression.fit\u001b[0;34m(self, X, y, sample_weight)\u001b[0m\n\u001b[1;32m   1230\u001b[0m \u001b[39melse\u001b[39;00m:\n\u001b[1;32m   1231\u001b[0m     n_threads \u001b[39m=\u001b[39m \u001b[39m1\u001b[39m\n\u001b[0;32m-> 1233\u001b[0m fold_coefs_ \u001b[39m=\u001b[39m Parallel(n_jobs\u001b[39m=\u001b[39;49m\u001b[39mself\u001b[39;49m\u001b[39m.\u001b[39;49mn_jobs, verbose\u001b[39m=\u001b[39;49m\u001b[39mself\u001b[39;49m\u001b[39m.\u001b[39;49mverbose, prefer\u001b[39m=\u001b[39;49mprefer)(\n\u001b[1;32m   1234\u001b[0m     path_func(\n\u001b[1;32m   1235\u001b[0m         X,\n\u001b[1;32m   1236\u001b[0m         y,\n\u001b[1;32m   1237\u001b[0m         pos_class\u001b[39m=\u001b[39;49mclass_,\n\u001b[1;32m   1238\u001b[0m         Cs\u001b[39m=\u001b[39;49m[C_],\n\u001b[1;32m   1239\u001b[0m         l1_ratio\u001b[39m=\u001b[39;49m\u001b[39mself\u001b[39;49m\u001b[39m.\u001b[39;49ml1_ratio,\n\u001b[1;32m   1240\u001b[0m         fit_intercept\u001b[39m=\u001b[39;49m\u001b[39mself\u001b[39;49m\u001b[39m.\u001b[39;49mfit_intercept,\n\u001b[1;32m   1241\u001b[0m         tol\u001b[39m=\u001b[39;49m\u001b[39mself\u001b[39;49m\u001b[39m.\u001b[39;49mtol,\n\u001b[1;32m   1242\u001b[0m         verbose\u001b[39m=\u001b[39;49m\u001b[39mself\u001b[39;49m\u001b[39m.\u001b[39;49mverbose,\n\u001b[1;32m   1243\u001b[0m         solver\u001b[39m=\u001b[39;49msolver,\n\u001b[1;32m   1244\u001b[0m         multi_class\u001b[39m=\u001b[39;49mmulti_class,\n\u001b[1;32m   1245\u001b[0m         max_iter\u001b[39m=\u001b[39;49m\u001b[39mself\u001b[39;49m\u001b[39m.\u001b[39;49mmax_iter,\n\u001b[1;32m   1246\u001b[0m         class_weight\u001b[39m=\u001b[39;49m\u001b[39mself\u001b[39;49m\u001b[39m.\u001b[39;49mclass_weight,\n\u001b[1;32m   1247\u001b[0m         check_input\u001b[39m=\u001b[39;49m\u001b[39mFalse\u001b[39;49;00m,\n\u001b[1;32m   1248\u001b[0m         random_state\u001b[39m=\u001b[39;49m\u001b[39mself\u001b[39;49m\u001b[39m.\u001b[39;49mrandom_state,\n\u001b[1;32m   1249\u001b[0m         coef\u001b[39m=\u001b[39;49mwarm_start_coef_,\n\u001b[1;32m   1250\u001b[0m         penalty\u001b[39m=\u001b[39;49mpenalty,\n\u001b[1;32m   1251\u001b[0m         max_squared_sum\u001b[39m=\u001b[39;49mmax_squared_sum,\n\u001b[1;32m   1252\u001b[0m         sample_weight\u001b[39m=\u001b[39;49msample_weight,\n\u001b[1;32m   1253\u001b[0m         n_threads\u001b[39m=\u001b[39;49mn_threads,\n\u001b[1;32m   1254\u001b[0m     )\n\u001b[1;32m   1255\u001b[0m     \u001b[39mfor\u001b[39;49;00m class_, warm_start_coef_ \u001b[39min\u001b[39;49;00m \u001b[39mzip\u001b[39;49m(classes_, warm_start_coef)\n\u001b[1;32m   1256\u001b[0m )\n\u001b[1;32m   1258\u001b[0m fold_coefs_, _, n_iter_ \u001b[39m=\u001b[39m \u001b[39mzip\u001b[39m(\u001b[39m*\u001b[39mfold_coefs_)\n\u001b[1;32m   1259\u001b[0m \u001b[39mself\u001b[39m\u001b[39m.\u001b[39mn_iter_ \u001b[39m=\u001b[39m np\u001b[39m.\u001b[39masarray(n_iter_, dtype\u001b[39m=\u001b[39mnp\u001b[39m.\u001b[39mint32)[:, \u001b[39m0\u001b[39m]\n",
      "File \u001b[0;32m/usr/local/lib/python3.8/dist-packages/joblib/parallel.py:1043\u001b[0m, in \u001b[0;36mParallel.__call__\u001b[0;34m(self, iterable)\u001b[0m\n\u001b[1;32m   1034\u001b[0m \u001b[39mtry\u001b[39;00m:\n\u001b[1;32m   1035\u001b[0m     \u001b[39m# Only set self._iterating to True if at least a batch\u001b[39;00m\n\u001b[1;32m   1036\u001b[0m     \u001b[39m# was dispatched. In particular this covers the edge\u001b[39;00m\n\u001b[0;32m   (...)\u001b[0m\n\u001b[1;32m   1040\u001b[0m     \u001b[39m# was very quick and its callback already dispatched all the\u001b[39;00m\n\u001b[1;32m   1041\u001b[0m     \u001b[39m# remaining jobs.\u001b[39;00m\n\u001b[1;32m   1042\u001b[0m     \u001b[39mself\u001b[39m\u001b[39m.\u001b[39m_iterating \u001b[39m=\u001b[39m \u001b[39mFalse\u001b[39;00m\n\u001b[0;32m-> 1043\u001b[0m     \u001b[39mif\u001b[39;00m \u001b[39mself\u001b[39;49m\u001b[39m.\u001b[39;49mdispatch_one_batch(iterator):\n\u001b[1;32m   1044\u001b[0m         \u001b[39mself\u001b[39m\u001b[39m.\u001b[39m_iterating \u001b[39m=\u001b[39m \u001b[39mself\u001b[39m\u001b[39m.\u001b[39m_original_iterator \u001b[39mis\u001b[39;00m \u001b[39mnot\u001b[39;00m \u001b[39mNone\u001b[39;00m\n\u001b[1;32m   1046\u001b[0m     \u001b[39mwhile\u001b[39;00m \u001b[39mself\u001b[39m\u001b[39m.\u001b[39mdispatch_one_batch(iterator):\n",
      "File \u001b[0;32m/usr/local/lib/python3.8/dist-packages/joblib/parallel.py:861\u001b[0m, in \u001b[0;36mParallel.dispatch_one_batch\u001b[0;34m(self, iterator)\u001b[0m\n\u001b[1;32m    859\u001b[0m     \u001b[39mreturn\u001b[39;00m \u001b[39mFalse\u001b[39;00m\n\u001b[1;32m    860\u001b[0m \u001b[39melse\u001b[39;00m:\n\u001b[0;32m--> 861\u001b[0m     \u001b[39mself\u001b[39;49m\u001b[39m.\u001b[39;49m_dispatch(tasks)\n\u001b[1;32m    862\u001b[0m     \u001b[39mreturn\u001b[39;00m \u001b[39mTrue\u001b[39;00m\n",
      "File \u001b[0;32m/usr/local/lib/python3.8/dist-packages/joblib/parallel.py:779\u001b[0m, in \u001b[0;36mParallel._dispatch\u001b[0;34m(self, batch)\u001b[0m\n\u001b[1;32m    777\u001b[0m \u001b[39mwith\u001b[39;00m \u001b[39mself\u001b[39m\u001b[39m.\u001b[39m_lock:\n\u001b[1;32m    778\u001b[0m     job_idx \u001b[39m=\u001b[39m \u001b[39mlen\u001b[39m(\u001b[39mself\u001b[39m\u001b[39m.\u001b[39m_jobs)\n\u001b[0;32m--> 779\u001b[0m     job \u001b[39m=\u001b[39m \u001b[39mself\u001b[39;49m\u001b[39m.\u001b[39;49m_backend\u001b[39m.\u001b[39;49mapply_async(batch, callback\u001b[39m=\u001b[39;49mcb)\n\u001b[1;32m    780\u001b[0m     \u001b[39m# A job can complete so quickly than its callback is\u001b[39;00m\n\u001b[1;32m    781\u001b[0m     \u001b[39m# called before we get here, causing self._jobs to\u001b[39;00m\n\u001b[1;32m    782\u001b[0m     \u001b[39m# grow. To ensure correct results ordering, .insert is\u001b[39;00m\n\u001b[1;32m    783\u001b[0m     \u001b[39m# used (rather than .append) in the following line\u001b[39;00m\n\u001b[1;32m    784\u001b[0m     \u001b[39mself\u001b[39m\u001b[39m.\u001b[39m_jobs\u001b[39m.\u001b[39minsert(job_idx, job)\n",
      "File \u001b[0;32m/usr/local/lib/python3.8/dist-packages/joblib/_parallel_backends.py:208\u001b[0m, in \u001b[0;36mSequentialBackend.apply_async\u001b[0;34m(self, func, callback)\u001b[0m\n\u001b[1;32m    206\u001b[0m \u001b[39mdef\u001b[39;00m \u001b[39mapply_async\u001b[39m(\u001b[39mself\u001b[39m, func, callback\u001b[39m=\u001b[39m\u001b[39mNone\u001b[39;00m):\n\u001b[1;32m    207\u001b[0m     \u001b[39m\"\"\"Schedule a func to be run\"\"\"\u001b[39;00m\n\u001b[0;32m--> 208\u001b[0m     result \u001b[39m=\u001b[39m ImmediateResult(func)\n\u001b[1;32m    209\u001b[0m     \u001b[39mif\u001b[39;00m callback:\n\u001b[1;32m    210\u001b[0m         callback(result)\n",
      "File \u001b[0;32m/usr/local/lib/python3.8/dist-packages/joblib/_parallel_backends.py:572\u001b[0m, in \u001b[0;36mImmediateResult.__init__\u001b[0;34m(self, batch)\u001b[0m\n\u001b[1;32m    569\u001b[0m \u001b[39mdef\u001b[39;00m \u001b[39m__init__\u001b[39m(\u001b[39mself\u001b[39m, batch):\n\u001b[1;32m    570\u001b[0m     \u001b[39m# Don't delay the application, to avoid keeping the input\u001b[39;00m\n\u001b[1;32m    571\u001b[0m     \u001b[39m# arguments in memory\u001b[39;00m\n\u001b[0;32m--> 572\u001b[0m     \u001b[39mself\u001b[39m\u001b[39m.\u001b[39mresults \u001b[39m=\u001b[39m batch()\n",
      "File \u001b[0;32m/usr/local/lib/python3.8/dist-packages/joblib/parallel.py:262\u001b[0m, in \u001b[0;36mBatchedCalls.__call__\u001b[0;34m(self)\u001b[0m\n\u001b[1;32m    258\u001b[0m \u001b[39mdef\u001b[39;00m \u001b[39m__call__\u001b[39m(\u001b[39mself\u001b[39m):\n\u001b[1;32m    259\u001b[0m     \u001b[39m# Set the default nested backend to self._backend but do not set the\u001b[39;00m\n\u001b[1;32m    260\u001b[0m     \u001b[39m# change the default number of processes to -1\u001b[39;00m\n\u001b[1;32m    261\u001b[0m     \u001b[39mwith\u001b[39;00m parallel_backend(\u001b[39mself\u001b[39m\u001b[39m.\u001b[39m_backend, n_jobs\u001b[39m=\u001b[39m\u001b[39mself\u001b[39m\u001b[39m.\u001b[39m_n_jobs):\n\u001b[0;32m--> 262\u001b[0m         \u001b[39mreturn\u001b[39;00m [func(\u001b[39m*\u001b[39margs, \u001b[39m*\u001b[39m\u001b[39m*\u001b[39mkwargs)\n\u001b[1;32m    263\u001b[0m                 \u001b[39mfor\u001b[39;00m func, args, kwargs \u001b[39min\u001b[39;00m \u001b[39mself\u001b[39m\u001b[39m.\u001b[39mitems]\n",
      "File \u001b[0;32m/usr/local/lib/python3.8/dist-packages/joblib/parallel.py:262\u001b[0m, in \u001b[0;36m<listcomp>\u001b[0;34m(.0)\u001b[0m\n\u001b[1;32m    258\u001b[0m \u001b[39mdef\u001b[39;00m \u001b[39m__call__\u001b[39m(\u001b[39mself\u001b[39m):\n\u001b[1;32m    259\u001b[0m     \u001b[39m# Set the default nested backend to self._backend but do not set the\u001b[39;00m\n\u001b[1;32m    260\u001b[0m     \u001b[39m# change the default number of processes to -1\u001b[39;00m\n\u001b[1;32m    261\u001b[0m     \u001b[39mwith\u001b[39;00m parallel_backend(\u001b[39mself\u001b[39m\u001b[39m.\u001b[39m_backend, n_jobs\u001b[39m=\u001b[39m\u001b[39mself\u001b[39m\u001b[39m.\u001b[39m_n_jobs):\n\u001b[0;32m--> 262\u001b[0m         \u001b[39mreturn\u001b[39;00m [func(\u001b[39m*\u001b[39;49margs, \u001b[39m*\u001b[39;49m\u001b[39m*\u001b[39;49mkwargs)\n\u001b[1;32m    263\u001b[0m                 \u001b[39mfor\u001b[39;00m func, args, kwargs \u001b[39min\u001b[39;00m \u001b[39mself\u001b[39m\u001b[39m.\u001b[39mitems]\n",
      "File \u001b[0;32m/usr/local/lib/python3.8/dist-packages/sklearn/utils/fixes.py:117\u001b[0m, in \u001b[0;36m_FuncWrapper.__call__\u001b[0;34m(self, *args, **kwargs)\u001b[0m\n\u001b[1;32m    115\u001b[0m \u001b[39mdef\u001b[39;00m \u001b[39m__call__\u001b[39m(\u001b[39mself\u001b[39m, \u001b[39m*\u001b[39margs, \u001b[39m*\u001b[39m\u001b[39m*\u001b[39mkwargs):\n\u001b[1;32m    116\u001b[0m     \u001b[39mwith\u001b[39;00m config_context(\u001b[39m*\u001b[39m\u001b[39m*\u001b[39m\u001b[39mself\u001b[39m\u001b[39m.\u001b[39mconfig):\n\u001b[0;32m--> 117\u001b[0m         \u001b[39mreturn\u001b[39;00m \u001b[39mself\u001b[39;49m\u001b[39m.\u001b[39;49mfunction(\u001b[39m*\u001b[39;49margs, \u001b[39m*\u001b[39;49m\u001b[39m*\u001b[39;49mkwargs)\n",
      "File \u001b[0;32m/usr/local/lib/python3.8/dist-packages/sklearn/linear_model/_logistic.py:495\u001b[0m, in \u001b[0;36m_logistic_regression_path\u001b[0;34m(X, y, pos_class, Cs, fit_intercept, max_iter, tol, verbose, solver, coef, class_weight, dual, penalty, intercept_scaling, multi_class, random_state, check_input, max_squared_sum, sample_weight, l1_ratio, n_threads)\u001b[0m\n\u001b[1;32m    492\u001b[0m         alpha \u001b[39m=\u001b[39m (\u001b[39m1.0\u001b[39m \u001b[39m/\u001b[39m C) \u001b[39m*\u001b[39m (\u001b[39m1\u001b[39m \u001b[39m-\u001b[39m l1_ratio)\n\u001b[1;32m    493\u001b[0m         beta \u001b[39m=\u001b[39m (\u001b[39m1.0\u001b[39m \u001b[39m/\u001b[39m C) \u001b[39m*\u001b[39m l1_ratio\n\u001b[0;32m--> 495\u001b[0m     w0, n_iter_i, warm_start_sag \u001b[39m=\u001b[39m sag_solver(\n\u001b[1;32m    496\u001b[0m         X,\n\u001b[1;32m    497\u001b[0m         target,\n\u001b[1;32m    498\u001b[0m         sample_weight,\n\u001b[1;32m    499\u001b[0m         loss,\n\u001b[1;32m    500\u001b[0m         alpha,\n\u001b[1;32m    501\u001b[0m         beta,\n\u001b[1;32m    502\u001b[0m         max_iter,\n\u001b[1;32m    503\u001b[0m         tol,\n\u001b[1;32m    504\u001b[0m         verbose,\n\u001b[1;32m    505\u001b[0m         random_state,\n\u001b[1;32m    506\u001b[0m         \u001b[39mFalse\u001b[39;49;00m,\n\u001b[1;32m    507\u001b[0m         max_squared_sum,\n\u001b[1;32m    508\u001b[0m         warm_start_sag,\n\u001b[1;32m    509\u001b[0m         is_saga\u001b[39m=\u001b[39;49m(solver \u001b[39m==\u001b[39;49m \u001b[39m\"\u001b[39;49m\u001b[39msaga\u001b[39;49m\u001b[39m\"\u001b[39;49m),\n\u001b[1;32m    510\u001b[0m     )\n\u001b[1;32m    512\u001b[0m \u001b[39melse\u001b[39;00m:\n\u001b[1;32m    513\u001b[0m     \u001b[39mraise\u001b[39;00m \u001b[39mValueError\u001b[39;00m(\n\u001b[1;32m    514\u001b[0m         \u001b[39m\"\u001b[39m\u001b[39msolver must be one of \u001b[39m\u001b[39m{\u001b[39m\u001b[39m'\u001b[39m\u001b[39mliblinear\u001b[39m\u001b[39m'\u001b[39m\u001b[39m, \u001b[39m\u001b[39m'\u001b[39m\u001b[39mlbfgs\u001b[39m\u001b[39m'\u001b[39m\u001b[39m, \u001b[39m\u001b[39m\"\u001b[39m\n\u001b[1;32m    515\u001b[0m         \u001b[39m\"\u001b[39m\u001b[39m'\u001b[39m\u001b[39mnewton-cg\u001b[39m\u001b[39m'\u001b[39m\u001b[39m, \u001b[39m\u001b[39m'\u001b[39m\u001b[39msag\u001b[39m\u001b[39m'\u001b[39m\u001b[39m}, got \u001b[39m\u001b[39m'\u001b[39m\u001b[39m%s\u001b[39;00m\u001b[39m'\u001b[39m\u001b[39m instead\u001b[39m\u001b[39m\"\u001b[39m \u001b[39m%\u001b[39m solver\n\u001b[1;32m    516\u001b[0m     )\n",
      "File \u001b[0;32m/usr/local/lib/python3.8/dist-packages/sklearn/linear_model/_sag.py:325\u001b[0m, in \u001b[0;36msag_solver\u001b[0;34m(X, y, sample_weight, loss, alpha, beta, max_iter, tol, verbose, random_state, check_input, max_squared_sum, warm_start_mem, is_saga)\u001b[0m\n\u001b[1;32m    319\u001b[0m     \u001b[39mraise\u001b[39;00m \u001b[39mZeroDivisionError\u001b[39;00m(\n\u001b[1;32m    320\u001b[0m         \u001b[39m\"\u001b[39m\u001b[39mCurrent sag implementation does not handle \u001b[39m\u001b[39m\"\u001b[39m\n\u001b[1;32m    321\u001b[0m         \u001b[39m\"\u001b[39m\u001b[39mthe case step_size * alpha_scaled == 1\u001b[39m\u001b[39m\"\u001b[39m\n\u001b[1;32m    322\u001b[0m     )\n\u001b[1;32m    324\u001b[0m sag \u001b[39m=\u001b[39m sag64 \u001b[39mif\u001b[39;00m X\u001b[39m.\u001b[39mdtype \u001b[39m==\u001b[39m np\u001b[39m.\u001b[39mfloat64 \u001b[39melse\u001b[39;00m sag32\n\u001b[0;32m--> 325\u001b[0m num_seen, n_iter_ \u001b[39m=\u001b[39m sag(\n\u001b[1;32m    326\u001b[0m     dataset,\n\u001b[1;32m    327\u001b[0m     coef_init,\n\u001b[1;32m    328\u001b[0m     intercept_init,\n\u001b[1;32m    329\u001b[0m     n_samples,\n\u001b[1;32m    330\u001b[0m     n_features,\n\u001b[1;32m    331\u001b[0m     n_classes,\n\u001b[1;32m    332\u001b[0m     tol,\n\u001b[1;32m    333\u001b[0m     max_iter,\n\u001b[1;32m    334\u001b[0m     loss,\n\u001b[1;32m    335\u001b[0m     step_size,\n\u001b[1;32m    336\u001b[0m     alpha_scaled,\n\u001b[1;32m    337\u001b[0m     beta_scaled,\n\u001b[1;32m    338\u001b[0m     sum_gradient_init,\n\u001b[1;32m    339\u001b[0m     gradient_memory_init,\n\u001b[1;32m    340\u001b[0m     seen_init,\n\u001b[1;32m    341\u001b[0m     num_seen_init,\n\u001b[1;32m    342\u001b[0m     fit_intercept,\n\u001b[1;32m    343\u001b[0m     intercept_sum_gradient,\n\u001b[1;32m    344\u001b[0m     intercept_decay,\n\u001b[1;32m    345\u001b[0m     is_saga,\n\u001b[1;32m    346\u001b[0m     verbose,\n\u001b[1;32m    347\u001b[0m )\n\u001b[1;32m    349\u001b[0m \u001b[39mif\u001b[39;00m n_iter_ \u001b[39m==\u001b[39m max_iter:\n\u001b[1;32m    350\u001b[0m     warnings\u001b[39m.\u001b[39mwarn(\n\u001b[1;32m    351\u001b[0m         \u001b[39m\"\u001b[39m\u001b[39mThe max_iter was reached which means the coef_ did not converge\u001b[39m\u001b[39m\"\u001b[39m,\n\u001b[1;32m    352\u001b[0m         ConvergenceWarning,\n\u001b[1;32m    353\u001b[0m     )\n",
      "\u001b[0;31mKeyboardInterrupt\u001b[0m: "
     ]
    }
   ],
   "source": [
    "_, test_accs_figured, shuffled_accs_figured, models, splits = classifier_utils.evaluate_classifiers_by_time_bins(\n",
    "    clf, figured_inputs, figured_labels, np.arange(0, 0.8, 0.1), splitter\n",
    ")\n",
    "print(np.nanmean(test_accs_figured, axis=1))\n",
    "print(np.nanstd(test_accs_figured, axis=1))\n",
    "\n",
    "print(np.nanmean(shuffled_accs_figured, axis=1))\n",
    "print(np.nanstd(shuffled_accs_figured, axis=1))\n",
    "\n",
    "np.save(fs.open(f\"l2l.pqz317.scratch/rule_accs_figured_{pre_interval}_crossfix_{post_interval}_by_block_split.npy\", \"wb\"), test_accs_figured)\n",
    "np.save(fs.open(f\"l2l.pqz317.scratch/rule_shuffled_accs_figured_{pre_interval}_crossfix_{post_interval}_by_block_split.npy\", \"wb\"), shuffled_accs_figured)\n",
    "np.save(fs.open(f\"l2l.pqz317.scratch/rule_figured_models_{pre_interval}_crossfix_{post_interval}_by_block_split.npy\", \"wb\"), models)\n",
    "pickle.dump(splits, fs.open(f\"l2l.pqz317.scratch/rule_figured_splits_{pre_interval}_crossfix_{post_interval}_by_block_split.npy\", \"wb\"))\n",
    "\n",
    "# test_accs_not_figured, shuffled_accs_not_figured, models, splits = classifier_utils.evaluate_classifiers_by_time_bins(\n",
    "#     clf, not_figured_inputs, not_figured_labels, np.arange(0, 0.8, 0.1), splitter\n",
    "# )\n",
    "\n",
    "# np.save(fs.open(f\"l2l.pqz317.scratch/rule_accs_not_figured_{pre_interval}_crossfix_{post_interval}_by_block_split.npy\", \"wb\"), test_accs_not_figured)\n",
    "# np.save(fs.open(f\"l2l.pqz317.scratch/rule_shuffled_accs_not_figured_{pre_interval}_crossfix_{post_interval}_by_block_split.npy\", \"wb\"), shuffled_accs_not_figured)\n",
    "# np.save(fs.open(f\"l2l.pqz317.scratch/rule_figured_models_{pre_interval}_crossfix_{post_interval}_by_block_split.npy\", \"wb\"), models)\n",
    "# pickle.dump(splits, fs.open(f\"l2l.pqz317.scratch/rule_figured_splits_{pre_interval}_crossfix_{post_interval}_by__split.npy\", \"wb\"))"
   ]
  },
  {
   "cell_type": "code",
   "execution_count": 13,
   "metadata": {},
   "outputs": [
    {
     "data": {
      "text/plain": [
       "<matplotlib.legend.Legend at 0x7f123f4f9f70>"
      ]
     },
     "execution_count": 13,
     "metadata": {},
     "output_type": "execute_result"
    },
    {
     "data": {
      "image/png": "[encoded data removed]",
      "text/plain": [
       "<Figure size 432x288 with 1 Axes>"
      ]
     },
     "metadata": {
      "needs_background": "light"
     },
     "output_type": "display_data"
    }
   ],
   "source": [
    "test_accs_figured = np.load(fs.open(f\"l2l.pqz317.scratch/rule_accs_figured_{pre_interval}_crossfix_{post_interval}_by_block_split.npy\"))\n",
    "shuffled_accs_figured = np.load(fs.open(f\"l2l.pqz317.scratch/rule_shuffled_accs_figured_{pre_interval}_crossfix_{post_interval}_by_block_split.npy\"))\n",
    "\n",
    "\n",
    "# # generate figures\n",
    "fig, ax = plt.subplots()\n",
    "visualization_utils.visualize_accuracy_across_time_bins(\n",
    "    shuffled_accs_figured,\n",
    "    pre_interval, post_interval, 100,\n",
    "    ax,\n",
    "    label=\"Shuffled Acc Figured\",\n",
    "    right_align=True\n",
    ")\n",
    "visualization_utils.visualize_accuracy_across_time_bins(\n",
    "    test_accs_figured,\n",
    "    pre_interval, post_interval, 100,\n",
    "    ax,\n",
    "    label=\"Test Acc Figured\",\n",
    "    right_align=True\n",
    ")\n",
    "ax.set_xlabel(\"Time Bins (ms)\")\n",
    "ax.set_ylabel(\"Decoder Accuracy\")\n",
    "ax.set_title(f\"Decoding Rule From Cross Fixation\")\n",
    "ax.legend()"
   ]
  },
  {
   "cell_type": "code",
   "execution_count": null,
   "metadata": {},
   "outputs": [],
   "source": []
  }
 ],
 "metadata": {
  "kernelspec": {
   "display_name": "Python 3.8.10 64-bit",
   "language": "python",
   "name": "python3"
  },
  "language_info": {
   "codemirror_mode": {
    "name": "ipython",
    "version": 3
   },
   "file_extension": ".py",
   "mimetype": "text/x-python",
   "name": "python",
   "nbconvert_exporter": "python",
   "pygments_lexer": "ipython3",
   "version": "3.8.10"
  },
  "orig_nbformat": 4,
  "vscode": {
   "interpreter": {
    "hash": "31f2aee4e71d21fbe5cf8b01ff0e069b9275f58929596ceb00d14d90e3e16cd6"
   }
  }
 },
 "nbformat": 4,
 "nbformat_minor": 2
}
